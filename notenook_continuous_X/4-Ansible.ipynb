{
 "cells": [
  {
   "cell_type": "markdown",
   "id": "edec43e9-039c-4b65-af94-efeb4755c97e",
   "metadata": {},
   "source": [
    "## Ansible\n",
    "\n",
    "Now that the infrastructure has been successfully provisioned, we can proceed with configuring and deploying software on the provisioned resources using Ansible."
   ]
  },
  {
   "cell_type": "markdown",
   "id": "f31dc0e6-4e57-4aef-9724-04cba72751e0",
   "metadata": {},
   "source": [
    "### Setup"
   ]
  },
  {
   "cell_type": "markdown",
   "id": "d3c7bdea-da6f-419e-9d0b-721dc33b37da",
   "metadata": {},
   "source": [
    "As with Terraform, we need to ensure the Ansible executables are accessible by adding their install directory to the PATH in each new Bash session."
   ]
  },
  {
   "cell_type": "code",
   "execution_count": 1,
   "id": "8363d7a5-61eb-468b-a79f-00855109807c",
   "metadata": {
    "tags": []
   },
   "outputs": [],
   "source": [
    "export PATH=/work/.local/bin:$PATH\n",
    "export PYTHONUSERBASE=/work/.local"
   ]
  },
  {
   "cell_type": "markdown",
   "id": "608d2a60-d393-4441-9afc-aab73f618e7f",
   "metadata": {},
   "source": [
    "If you haven’t already, be sure to update the ansible.cfg file with your assigned floating IP address. You can find this IP in the output of the Terraform provisioning step.\n",
    "\n",
    "Once updated, move the ansible.cfg file to the correct location as required by your setup. The following cell will display the contents of this file—verify that your actual floating IP appears correctly in the output."
   ]
  },
  {
   "cell_type": "code",
   "execution_count": 6,
   "id": "f57504b1-7839-4335-a2c2-a4ba05378a46",
   "metadata": {
    "tags": []
   },
   "outputs": [
    {
     "name": "stdout",
     "output_type": "stream",
     "text": [
      "[defaults]\n",
      "stdout_callback = yaml\n",
      "inventory = /work/gourmetgram-iac/ansible/inventory.yaml\n",
      "\n",
      "[ssh_connection]\n",
      "ssh_args = -o StrictHostKeyChecking=off -o UserKnownHostsFile=/dev/null -o ForwardAgent=yes -o ProxyCommand=\"ssh -o StrictHostKeyChecking=no -o UserKnownHostsFile=/dev/null -W %h:%p cc@129.114.26.127\"\n"
     ]
    }
   ],
   "source": [
    "cat /home/jgr7704_nyu_edu/work/ML-SysOps_Project-main\\ 2/continous_X_pipeline/ansible/ansible.cfg"
   ]
  },
  {
   "cell_type": "code",
   "execution_count": 7,
   "id": "92ec7c9c-1b9a-40d3-a19f-cfdbd92c099b",
   "metadata": {
    "tags": []
   },
   "outputs": [],
   "source": [
    "cd /home/jgr7704_nyu_edu/work/ML-SysOps_Project-main\\ 2/continous_X_pipeline/ansible"
   ]
  },
  {
   "cell_type": "markdown",
   "id": "6d5207f0-96fd-4c33-969a-bdd3b58194ea",
   "metadata": {},
   "source": [
    "### Verify connectivity\n",
    "\n",
    "First, we'll execute a basic Ansible task to verify connectivity with all the hosts defined in the inventory.yml file.\n",
    "\n",
    "    all:\n",
    "      vars:\n",
    "        ansible_python_interpreter: /usr/bin/python3\n",
    "      hosts:\n",
    "        node1:\n",
    "          ansible_host: 192.168.1.11\n",
    "          ansible_user: cc\n",
    "        node2:\n",
    "          ansible_host: 192.168.1.12\n",
    "          ansible_user: cc\n",
    "        node3:\n",
    "          ansible_host: 192.168.1.13\n",
    "          ansible_user: cc\n",
    "\n",
    "It uses the `ping` module, which checks if Ansible can connect to each host via SSH and run Python code there."
   ]
  },
  {
   "cell_type": "code",
   "execution_count": 9,
   "id": "c9bfd548-c054-4d60-affa-44243573897f",
   "metadata": {
    "tags": []
   },
   "outputs": [
    {
     "name": "stdout",
     "output_type": "stream",
     "text": [
      "node2 | SUCCESS => {\n",
      "    \"changed\": false,\n",
      "    \"ping\": \"pong\"\n",
      "}\n",
      "node1 | SUCCESS => {\n",
      "    \"changed\": false,\n",
      "    \"ping\": \"pong\"\n",
      "}\n",
      "node3 | SUCCESS => {\n",
      "    \"changed\": false,\n",
      "    \"ping\": \"pong\"\n",
      "}\n"
     ]
    }
   ],
   "source": [
    "ansible -i inventory.yml all -m ping"
   ]
  },
  {
   "cell_type": "markdown",
   "id": "7f35a2e1-1bbb-4a5c-ae51-93ea71774e78",
   "metadata": {},
   "source": [
    "But to be able to do that we would need to add the private key in .ssh folder. "
   ]
  },
  {
   "cell_type": "code",
   "execution_count": null,
   "id": "fbeb6a0c-865b-4859-ae11-96ee7229b1af",
   "metadata": {
    "tags": []
   },
   "outputs": [],
   "source": []
  },
  {
   "cell_type": "markdown",
   "id": "3c77a5fa-d5dc-49f2-88f0-effbdf7f9140",
   "metadata": {},
   "source": [
    "### Run a “Hello, World” playbook"
   ]
  },
  {
   "cell_type": "code",
   "execution_count": 10,
   "id": "ab03880c-d055-4b09-bad4-23a6d33aa579",
   "metadata": {
    "tags": []
   },
   "outputs": [
    {
     "name": "stdout",
     "output_type": "stream",
     "text": [
      "\n",
      "PLAY [Hello, world - use Ansible to run a command on each host] ****************\n",
      "\n",
      "TASK [Run hostname command] ****************************************************\n",
      "changed: [node2]\n",
      "changed: [node3]\n",
      "changed: [node1]\n",
      "\n",
      "TASK [Show hostname output] ****************************************************\n",
      "ok: [node1] => \n",
      "  msg: The hostname of node1 is node1-ms-classification-project31\n",
      "ok: [node2] => \n",
      "  msg: The hostname of node2 is node2-ms-classification-project31\n",
      "ok: [node3] => \n",
      "  msg: The hostname of node3 is node3-ms-classification-project31\n",
      "\n",
      "PLAY RECAP *********************************************************************\n",
      "node1                      : ok=2    changed=1    unreachable=0    failed=0    skipped=0    rescued=0    ignored=0   \n",
      "node2                      : ok=2    changed=1    unreachable=0    failed=0    skipped=0    rescued=0    ignored=0   \n",
      "node3                      : ok=2    changed=1    unreachable=0    failed=0    skipped=0    rescued=0    ignored=0   \n",
      "\n"
     ]
    }
   ],
   "source": [
    "ansible-playbook -i inventory.yml general/hello_host.yml"
   ]
  },
  {
   "cell_type": "markdown",
   "id": "94888670-7de6-48c5-bf75-55f5f944deca",
   "metadata": {},
   "source": [
    "This was just a sanity check!"
   ]
  }
 ],
 "metadata": {
  "kernelspec": {
   "display_name": "Python 3 (ipykernel)",
   "language": "python",
   "name": "python3"
  },
  "language_info": {
   "codemirror_mode": {
    "name": "ipython",
    "version": 3
   },
   "file_extension": ".py",
   "mimetype": "text/x-python",
   "name": "python",
   "nbconvert_exporter": "python",
   "pygments_lexer": "ipython3",
   "version": "3.12.2"
  }
 },
 "nbformat": 4,
 "nbformat_minor": 5
}
