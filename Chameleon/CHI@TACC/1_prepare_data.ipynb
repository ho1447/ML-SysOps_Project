{
 "cells": [
  {
   "cell_type": "markdown",
   "id": "25513410-4318-4ea0-8088-6a052a4f139d",
   "metadata": {},
   "source": [
    "## Prepare dataset"
   ]
  },
  {
   "cell_type": "markdown",
   "id": "4a6ddcce-840e-49a7-bcf2-b6f8defd6767",
   "metadata": {
    "jp-MarkdownHeadingCollapsed": true,
    "tags": []
   },
   "source": [
    "### Option 1: Connect to Bucket on CHI@TACC\n",
    "First, create the volume:\n",
    "\n",
    "``` bash\n",
    "# run on node\n",
    "curl https://rclone.org/install.sh | sudo bash\n",
    "\n",
    "# run on node-persist\n",
    "# this line makes sure user_allow_other is un-commented in /etc/fuse.conf\n",
    "sudo sed -i '/^#user_allow_other/s/^#//' /etc/fuse.conf\n",
    "\n",
    "# run on node-persist\n",
    "mkdir -p ~/.config/rclone\n",
    "nano  ~/.config/rclone/rclone.conf\n",
    "```\n",
    "\n",
    "Paste the following\n",
    "``` bash\n",
    "[chi_tacc]\n",
    "type = swift\n",
    "user_id = 4376b58eeabc6e4ec2191921c0a2b07d8f245ba944cb9cd7d21e299a67b25358\n",
    "application_credential_id = 7f5aa830dd8743659ce482a802e3d832\n",
    "application_credential_secret = WENItrG3L0i9y-OPEmPj1GG6HXnWNnvUaq8v4nhM3ttUdoeMEVVa5o4acsCI8JYhmiyvkr0nacmEwWlRk2BkWg\n",
    "auth = https://chi.tacc.chameleoncloud.org:5000/v3\n",
    "region = CHI@TACC\n",
    "```\n",
    "\n",
    "Then test it, run\n",
    "``` bash\n",
    "# run on node-persist\n",
    "rclone lsd chi_tacc:\n",
    "```\n",
    "\n",
    "The next step is to create a mount point for the data in the local filesystem:\n",
    "``` bash\n",
    "# run on node-persist\n",
    "sudo mkdir -p /mnt/object\n",
    "sudo chown -R cc /mnt/object\n",
    "sudo chgrp -R cc /mnt/object\n",
    "\n",
    "# run on node-persist\n",
    "rclone mount chi_tacc:object-persist-project31 /mnt/object --read-only --allow-other --daemon\n",
    "\n",
    "ls /mnt/object\n",
    "```\n",
    "To confirm that it's there"
   ]
  },
  {
   "cell_type": "markdown",
   "id": "949599a1-70bf-49db-8f8b-79cca72d3726",
   "metadata": {
    "tags": []
   },
   "source": [
    "### Option 2: Create Volume\n",
    "First, create the volume:\n",
    "\n",
    "``` bash\n",
    "# runs on node\n",
    "docker volume create speech_commands\n",
    "```\n",
    "\n",
    "Then, to populate it with data, run\n",
    "\n",
    "``` bash\n",
    "# runs on node\n",
    "docker compose -f docker/docker-compose-data.yaml up -d\n",
    "```\n",
    "\n",
    "This will run a temporary container that downloads the speech command dataset, organizes it in the volume, and then stops. It may take a minute or two. You can verify with\n",
    "\n",
    "``` bash\n",
    "# runs on node\n",
    "docker ps\n",
    "```\n",
    "\n",
    "that it is done - when there are no running containers.\n",
    "\n",
    "Finally, verify that the data looks as it should. Start a shell in a temporary container with this volume attached, and `ls` the contents of the volume:\n",
    "\n",
    "``` bash\n",
    "# runs on node\n",
    "docker run --rm -it -v speech_commands:/mnt alpine ls -l /mnt/speech_commands/\n",
    "```\n",
    "\n",
    "it should show “evaluation”, “validation”, and “training” subfolders."
   ]
  },
  {
   "cell_type": "markdown",
   "id": "cb78d992-7095-4b9e-9fe7-a4f6e1fceaba",
   "metadata": {},
   "source": [
    "### Option 3: Manually download and orgainze\n"
   ]
  }
 ],
 "metadata": {
  "kernelspec": {
   "display_name": "Python 3 (ipykernel)",
   "language": "python",
   "name": "python3"
  },
  "language_info": {
   "codemirror_mode": {
    "name": "ipython",
    "version": 3
   },
   "file_extension": ".py",
   "mimetype": "text/x-python",
   "name": "python",
   "nbconvert_exporter": "python",
   "pygments_lexer": "ipython3",
   "version": "3.10.9"
  }
 },
 "nbformat": 4,
 "nbformat_minor": 5
}
