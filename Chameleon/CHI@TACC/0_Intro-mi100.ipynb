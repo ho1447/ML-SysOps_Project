{
 "cells": [
  {
   "cell_type": "markdown",
   "id": "9b864d3b-daf8-49c8-aa8b-f9ecbb56eeef",
   "metadata": {},
   "source": [
    "## Bring up a GPU server"
   ]
  },
  {
   "cell_type": "code",
   "execution_count": 1,
   "id": "0612deac-2981-4c16-befc-18079e89d798",
   "metadata": {
    "tags": []
   },
   "outputs": [
    {
     "data": {
      "application/vnd.jupyter.widget-view+json": {
       "model_id": "3c0667fd21e44b9584d051dd7a38d7af",
       "version_major": 2,
       "version_minor": 0
      },
      "text/plain": [
       "VBox(children=(Dropdown(description='Select Project', options=('CHI-251409',), value='CHI-251409'), Output()))"
      ]
     },
     "metadata": {},
     "output_type": "display_data"
    },
    {
     "data": {
      "application/vnd.jupyter.widget-view+json": {
       "model_id": "f1dff1ae3b094a72aec8df023ff2cd0f",
       "version_major": 2,
       "version_minor": 0
      },
      "text/plain": [
       "VBox(children=(Dropdown(description='Select Site', options=('CHI@TACC', 'CHI@UC', 'CHI@EVL', 'CHI@NCAR', 'CHI@…"
      ]
     },
     "metadata": {},
     "output_type": "display_data"
    }
   ],
   "source": [
    "from chi import server, context, lease\n",
    "import chi, os, time, datetime\n",
    "\n",
    "context.version = \"1.0\" \n",
    "context.choose_project()\n",
    "context.choose_site(default=\"CHI@TACC\")"
   ]
  },
  {
   "cell_type": "code",
   "execution_count": 2,
   "id": "085b61f3-d5b6-4d6d-9181-318cb7d7efe4",
   "metadata": {
    "tags": []
   },
   "outputs": [
    {
     "data": {
      "application/vnd.jupyter.widget-view+json": {
       "model_id": "df07812c87aa46e0b821fe60994881a0",
       "version_major": 2,
       "version_minor": 0
      },
      "text/plain": [
       "HTML(value='\\n        <h2>Lease Details</h2>\\n        <table>\\n            <tr><th>Name</th><td>node-model2-pr…"
      ]
     },
     "metadata": {},
     "output_type": "display_data"
    },
    {
     "name": "stdout",
     "output_type": "stream",
     "text": [
      "Lease Details:\n",
      "Name: node-model2-project31\n",
      "ID: 1819f81b-411b-456a-85dc-563be597e341\n",
      "Status: ACTIVE\n",
      "Start Date: 2025-05-13 16:16:00\n",
      "End Date: 2025-05-14 16:15:00\n",
      "User ID: 980559067e994013e0b26ff6dacb9f87dee42ab44864475798f7d35eb764bef6\n",
      "Project ID: d3c6e101843a4ba79e665ebf59b521a2\n",
      "\n",
      "Node Reservations:\n",
      "ID: 5a36bd3d-c09f-4c9b-a534-4a482c691c63, Status: active, Min: 1, Max: 1\n",
      "\n",
      "Floating IP Reservations:\n",
      "\n",
      "Network Reservations:\n",
      "\n",
      "Events:\n"
     ]
    }
   ],
   "source": [
    "l = lease.get_lease(f\"node-model2-project31\") \n",
    "l.show()"
   ]
  },
  {
   "cell_type": "code",
   "execution_count": 3,
   "id": "c6a39832-53e3-45e0-84f2-6f03e07c9b44",
   "metadata": {
    "tags": []
   },
   "outputs": [
    {
     "name": "stdout",
     "output_type": "stream",
     "text": [
      "Waiting for server node-model2-project31's status to become ACTIVE. This typically takes 10 minutes, but can take up to 20 minutes.\n"
     ]
    },
    {
     "data": {
      "application/vnd.jupyter.widget-view+json": {
       "model_id": "d53886899839435a95ca3063a5ab024d",
       "version_major": 2,
       "version_minor": 0
      },
      "text/plain": [
       "HBox(children=(Label(value=''), IntProgress(value=0, bar_style='success')))"
      ]
     },
     "metadata": {},
     "output_type": "display_data"
    },
    {
     "name": "stdout",
     "output_type": "stream",
     "text": [
      "Server has moved to status ACTIVE\n"
     ]
    },
    {
     "data": {
      "text/html": [
       "<table style='border-collapse: collapse; width: 100%;'><tr style='background-color: #f2f2f2;'><th style='border: 1px solid #ddd; padding: 8px;'>Attribute</th><th style='border: 1px solid #ddd; padding: 8px;'>node-model2-project31</th></tr><tr><td style='border: 1px solid #ddd; padding: 8px;'>Id</td><td style='border: 1px solid #ddd; padding: 8px;'>d9ad4ed8-8be8-4b96-bac6-1ce3bd6d1e33</td></tr><tr><td style='border: 1px solid #ddd; padding: 8px;'>Status</td><td style='border: 1px solid #ddd; padding: 8px;'>ACTIVE</td></tr><tr><td style='border: 1px solid #ddd; padding: 8px;'>Image Name</td><td style='border: 1px solid #ddd; padding: 8px;'>CC-Ubuntu24.04-CUDA</td></tr><tr><td style='border: 1px solid #ddd; padding: 8px;'>Flavor Name</td><td style='border: 1px solid #ddd; padding: 8px;'>baremetal</td></tr><tr><td style='border: 1px solid #ddd; padding: 8px;'>Addresses</td><td style='border: 1px solid #ddd; padding: 8px;'><strong>sharednet1:</strong><br>&nbsp;&nbsp;IP: 10.52.3.34 (v4)<br>&nbsp;&nbsp;Type: fixed<br>&nbsp;&nbsp;MAC: 34:80:0d:de:75:d2<br></td></tr><tr><td style='border: 1px solid #ddd; padding: 8px;'>Network Name</td><td style='border: 1px solid #ddd; padding: 8px;'>sharednet1</td></tr><tr><td style='border: 1px solid #ddd; padding: 8px;'>Created At</td><td style='border: 1px solid #ddd; padding: 8px;'>2025-05-13T16:18:14Z</td></tr><tr><td style='border: 1px solid #ddd; padding: 8px;'>Keypair</td><td style='border: 1px solid #ddd; padding: 8px;'>vk2584_nyu_edu-jupyter</td></tr><tr><td style='border: 1px solid #ddd; padding: 8px;'>Reservation Id</td><td style='border: 1px solid #ddd; padding: 8px;'>5a36bd3d-c09f-4c9b-a534-4a482c691c63</td></tr><tr><td style='border: 1px solid #ddd; padding: 8px;'>Host Id</td><td style='border: 1px solid #ddd; padding: 8px;'>9acf860df16fe3cd915f9522cd52cf171577a815ef5c486f67a143e3</td></tr><tr><td style='border: 1px solid #ddd; padding: 8px;'>Host Status</td><td style='border: 1px solid #ddd; padding: 8px;'>None</td></tr><tr><td style='border: 1px solid #ddd; padding: 8px;'>Hypervisor Hostname</td><td style='border: 1px solid #ddd; padding: 8px;'>6f4d4903-c9fb-42e8-a559-1742d4d3ce03</td></tr><tr><td style='border: 1px solid #ddd; padding: 8px;'>Is Locked</td><td style='border: 1px solid #ddd; padding: 8px;'>False</td></tr></table>"
      ],
      "text/plain": [
       "<IPython.core.display.HTML object>"
      ]
     },
     "metadata": {},
     "output_type": "display_data"
    }
   ],
   "source": [
    "s = server.Server(\n",
    "    f\"node-model2-project31\", \n",
    "    reservation_id=l.node_reservations[0][\"id\"],\n",
    "    image_name=\"CC-Ubuntu24.04-CUDA\"\n",
    ")\n",
    "s.submit(idempotent=True)"
   ]
  },
  {
   "cell_type": "code",
   "execution_count": 4,
   "id": "61e765f7-6467-46cd-b656-c9ca7e31458d",
   "metadata": {},
   "outputs": [],
   "source": [
    "s.associate_floating_ip()"
   ]
  },
  {
   "cell_type": "code",
   "execution_count": 5,
   "id": "07c8cb74-4a76-4bd3-81eb-440a9ef6d22b",
   "metadata": {},
   "outputs": [
    {
     "data": {
      "text/html": [
       "<table style='border-collapse: collapse; width: 100%;'><tr style='background-color: #f2f2f2;'><th style='border: 1px solid #ddd; padding: 8px;'>Attribute</th><th style='border: 1px solid #ddd; padding: 8px;'>node-model2-project31</th></tr><tr><td style='border: 1px solid #ddd; padding: 8px;'>Id</td><td style='border: 1px solid #ddd; padding: 8px;'>d9ad4ed8-8be8-4b96-bac6-1ce3bd6d1e33</td></tr><tr><td style='border: 1px solid #ddd; padding: 8px;'>Status</td><td style='border: 1px solid #ddd; padding: 8px;'>ACTIVE</td></tr><tr><td style='border: 1px solid #ddd; padding: 8px;'>Image Name</td><td style='border: 1px solid #ddd; padding: 8px;'>CC-Ubuntu24.04-CUDA</td></tr><tr><td style='border: 1px solid #ddd; padding: 8px;'>Flavor Name</td><td style='border: 1px solid #ddd; padding: 8px;'>baremetal</td></tr><tr><td style='border: 1px solid #ddd; padding: 8px;'>Addresses</td><td style='border: 1px solid #ddd; padding: 8px;'><strong>sharednet1:</strong><br>&nbsp;&nbsp;IP: 10.52.3.34 (v4)<br>&nbsp;&nbsp;Type: fixed<br>&nbsp;&nbsp;MAC: 34:80:0d:de:75:d2<br>&nbsp;&nbsp;IP: 129.114.108.92 (v4)<br>&nbsp;&nbsp;Type: floating<br>&nbsp;&nbsp;MAC: 34:80:0d:de:75:d2<br></td></tr><tr><td style='border: 1px solid #ddd; padding: 8px;'>Network Name</td><td style='border: 1px solid #ddd; padding: 8px;'>sharednet1</td></tr><tr><td style='border: 1px solid #ddd; padding: 8px;'>Created At</td><td style='border: 1px solid #ddd; padding: 8px;'>2025-05-13T16:18:14Z</td></tr><tr><td style='border: 1px solid #ddd; padding: 8px;'>Keypair</td><td style='border: 1px solid #ddd; padding: 8px;'>vk2584_nyu_edu-jupyter</td></tr><tr><td style='border: 1px solid #ddd; padding: 8px;'>Reservation Id</td><td style='border: 1px solid #ddd; padding: 8px;'>5a36bd3d-c09f-4c9b-a534-4a482c691c63</td></tr><tr><td style='border: 1px solid #ddd; padding: 8px;'>Host Id</td><td style='border: 1px solid #ddd; padding: 8px;'>9acf860df16fe3cd915f9522cd52cf171577a815ef5c486f67a143e3</td></tr><tr><td style='border: 1px solid #ddd; padding: 8px;'>Host Status</td><td style='border: 1px solid #ddd; padding: 8px;'>None</td></tr><tr><td style='border: 1px solid #ddd; padding: 8px;'>Hypervisor Hostname</td><td style='border: 1px solid #ddd; padding: 8px;'>6f4d4903-c9fb-42e8-a559-1742d4d3ce03</td></tr><tr><td style='border: 1px solid #ddd; padding: 8px;'>Is Locked</td><td style='border: 1px solid #ddd; padding: 8px;'>False</td></tr></table>"
      ],
      "text/plain": [
       "<IPython.core.display.HTML object>"
      ]
     },
     "metadata": {},
     "output_type": "display_data"
    }
   ],
   "source": [
    "s.refresh()\n",
    "s.show(type=\"widget\")"
   ]
  },
  {
   "cell_type": "code",
   "execution_count": 6,
   "id": "73cba0d1-d9dd-4a40-9e78-ee2528368672",
   "metadata": {
    "tags": []
   },
   "outputs": [
    {
     "name": "stdout",
     "output_type": "stream",
     "text": [
      "updated security groups: ['allow-8000', 'allow-8888', 'allow-9000', 'allow-9001', 'allow-ssh', 'default']\n"
     ]
    }
   ],
   "source": [
    "security_groups = [\n",
    "  {'name': \"allow-ssh\", 'port': 22, 'description': \"Enable SSH traffic on TCP port 22\"},\n",
    "  {'name': \"allow-8888\", 'port': 8888, 'description': \"Enable TCP port 8888 (used by Jupyter)\"},\n",
    "  {'name': \"allow-8000\", 'port': 8000, 'description': \"Enable TCP port 8000 (used by MLFlow)\"},\n",
    "  {'name': \"allow-9000\", 'port': 9000, 'description': \"Enable TCP port 9000 (used by MinIO API)\"},\n",
    "  {'name': \"allow-9001\", 'port': 9001, 'description': \"Enable TCP port 9001 (used by MinIO Web UI)\"}\n",
    "]\n",
    "\n",
    "# configure openstacksdk for actions unsupported by python-chi\n",
    "os_conn = chi.clients.connection()\n",
    "nova_server = chi.nova().servers.get(s.id)\n",
    "\n",
    "for sg in security_groups:\n",
    "\n",
    "  if not os_conn.get_security_group(sg['name']):\n",
    "      os_conn.create_security_group(sg['name'], sg['description'])\n",
    "      os_conn.create_security_group_rule(sg['name'], port_range_min=sg['port'], port_range_max=sg['port'], protocol='tcp', remote_ip_prefix='0.0.0.0/0')\n",
    "\n",
    "  nova_server.add_security_group(sg['name'])\n",
    "\n",
    "print(f\"updated security groups: {[group.name for group in nova_server.list_security_group()]}\")"
   ]
  },
  {
   "cell_type": "code",
   "execution_count": 7,
   "id": "354559f4-9e4f-45ba-ba30-57f962b6394d",
   "metadata": {
    "tags": []
   },
   "outputs": [
    {
     "name": "stdout",
     "output_type": "stream",
     "text": [
      "Checking connectivity to 129.114.108.92 port 22.\n"
     ]
    },
    {
     "data": {
      "application/vnd.jupyter.widget-view+json": {
       "model_id": "0d2365b805224c1a895c6bce879d2be4",
       "version_major": 2,
       "version_minor": 0
      },
      "text/plain": [
       "HBox(children=(Label(value=''), IntProgress(value=0, bar_style='success')))"
      ]
     },
     "metadata": {},
     "output_type": "display_data"
    },
    {
     "name": "stdout",
     "output_type": "stream",
     "text": [
      "Connection successful\n"
     ]
    }
   ],
   "source": [
    "s.refresh()\n",
    "s.check_connectivity()"
   ]
  },
  {
   "cell_type": "markdown",
   "id": "f06a51c7-1be3-4708-8503-e059bbbee058",
   "metadata": {},
   "source": [
    "## Retrive Code & Set up applications"
   ]
  },
  {
   "cell_type": "code",
   "execution_count": 8,
   "id": "b1ad2307-bf2b-4319-badc-f954b352ea97",
   "metadata": {
    "tags": []
   },
   "outputs": [
    {
     "name": "stderr",
     "output_type": "stream",
     "text": [
      "/opt/conda/lib/python3.10/site-packages/paramiko/client.py:889: UserWarning: Unknown ssh-ed25519 host key for 129.114.108.92: b'9a0e1cbec32ed53875d7397efd949058'\n",
      "  warnings.warn(\n",
      "Cloning into 'ML-SysOps_Project'...\n"
     ]
    },
    {
     "data": {
      "text/plain": [
       "<Result cmd='git clone https://github.com/ho1447/ML-SysOps_Project.git' exited=0>"
      ]
     },
     "execution_count": 8,
     "metadata": {},
     "output_type": "execute_result"
    }
   ],
   "source": [
    "# clone from the group github\n",
    "s.execute(\"git clone https://github.com/ho1447/ML-SysOps_Project.git\")"
   ]
  },
  {
   "cell_type": "code",
   "execution_count": 9,
   "id": "d3ce7ea9-ee63-4393-a141-0b64c318e961",
   "metadata": {
    "tags": []
   },
   "outputs": [
    {
     "name": "stdout",
     "output_type": "stream",
     "text": [
      "# Executing docker install script, commit: 53a22f61c0628e58e1d6680b49e82993d304b449\n"
     ]
    },
    {
     "name": "stderr",
     "output_type": "stream",
     "text": [
      "+ sh -c apt-get -qq update >/dev/null\n",
      "+ sh -c DEBIAN_FRONTEND=noninteractive apt-get -y -qq install ca-certificates curl >/dev/null\n",
      "+ sh -c install -m 0755 -d /etc/apt/keyrings\n",
      "+ sh -c curl -fsSL \"https://download.docker.com/linux/ubuntu/gpg\" -o /etc/apt/keyrings/docker.asc\n",
      "+ sh -c chmod a+r /etc/apt/keyrings/docker.asc\n",
      "+ sh -c echo \"deb [arch=amd64 signed-by=/etc/apt/keyrings/docker.asc] https://download.docker.com/linux/ubuntu noble stable\" > /etc/apt/sources.list.d/docker.list\n",
      "+ sh -c apt-get -qq update >/dev/null\n",
      "+ sh -c DEBIAN_FRONTEND=noninteractive apt-get -y -qq install docker-ce docker-ce-cli containerd.io docker-compose-plugin docker-ce-rootless-extras docker-buildx-plugin >/dev/null\n",
      "\n",
      "Running kernel seems to be up-to-date.\n",
      "\n",
      "The processor microcode seems to be up-to-date.\n",
      "\n",
      "No services need to be restarted.\n",
      "\n",
      "No containers need to be restarted.\n",
      "\n",
      "No user sessions are running outdated binaries.\n",
      "\n",
      "No VM guests are running outdated hypervisor (qemu) binaries on this host.\n",
      "+ sh -c docker version\n"
     ]
    },
    {
     "name": "stdout",
     "output_type": "stream",
     "text": [
      "Client: Docker Engine - Community\n",
      " Version:           28.1.1\n",
      " API version:       1.49\n",
      " Go version:        go1.23.8\n",
      " Git commit:        4eba377\n",
      " Built:             Fri Apr 18 09:52:14 2025\n",
      " OS/Arch:           linux/amd64\n",
      " Context:           default\n",
      "\n",
      "Server: Docker Engine - Community\n",
      " Engine:\n",
      "  Version:          28.1.1\n",
      "  API version:      1.49 (minimum version 1.24)\n",
      "  Go version:       go1.23.8\n",
      "  Git commit:       01f442b\n",
      "  Built:            Fri Apr 18 09:52:14 2025\n",
      "  OS/Arch:          linux/amd64\n",
      "  Experimental:     false\n",
      " containerd:\n",
      "  Version:          1.7.27\n",
      "  GitCommit:        05044ec0a9a75232cad458027ca83437aae3f4da\n",
      " runc:\n",
      "  Version:          1.2.5\n",
      "  GitCommit:        v1.2.5-0-g59923ef\n",
      " docker-init:\n",
      "  Version:          0.19.0\n",
      "  GitCommit:        de40ad0\n",
      "\n",
      "================================================================================\n",
      "\n",
      "To run Docker as a non-privileged user, consider setting up the\n",
      "Docker daemon in rootless mode for your user:\n",
      "\n",
      "    dockerd-rootless-setuptool.sh install\n",
      "\n",
      "Visit https://docs.docker.com/go/rootless/ to learn about rootless mode.\n",
      "\n",
      "\n",
      "To run the Docker daemon as a fully privileged service, but granting non-root\n",
      "users access, refer to https://docs.docker.com/go/daemon-access/\n",
      "\n",
      "WARNING: Access to the remote API on a privileged Docker daemon is equivalent\n",
      "         to root access on the host. Refer to the 'Docker daemon attack surface'\n",
      "         documentation for details: https://docs.docker.com/go/attack-surface/\n",
      "\n",
      "================================================================================\n",
      "\n"
     ]
    },
    {
     "name": "stderr",
     "output_type": "stream",
     "text": [
      "Unable to find image 'hello-world:latest' locally\n",
      "latest: Pulling from library/hello-world\n",
      "e6590344b1a5: Pulling fs layer\n",
      "e6590344b1a5: Download complete\n",
      "e6590344b1a5: Pull complete\n",
      "Digest: sha256:c41088499908a59aae84b0a49c70e86f4731e588a737f1637e73c8c09d995654\n",
      "Status: Downloaded newer image for hello-world:latest\n"
     ]
    },
    {
     "name": "stdout",
     "output_type": "stream",
     "text": [
      "\n",
      "Hello from Docker!\n",
      "This message shows that your installation appears to be working correctly.\n",
      "\n",
      "To generate this message, Docker took the following steps:\n",
      " 1. The Docker client contacted the Docker daemon.\n",
      " 2. The Docker daemon pulled the \"hello-world\" image from the Docker Hub.\n",
      "    (amd64)\n",
      " 3. The Docker daemon created a new container from that image which runs the\n",
      "    executable that produces the output you are currently reading.\n",
      " 4. The Docker daemon streamed that output to the Docker client, which sent it\n",
      "    to your terminal.\n",
      "\n",
      "To try something more ambitious, you can run an Ubuntu container with:\n",
      " $ docker run -it ubuntu bash\n",
      "\n",
      "Share images, automate workflows, and more with a free Docker ID:\n",
      " https://hub.docker.com/\n",
      "\n",
      "For more examples and ideas, visit:\n",
      " https://docs.docker.com/get-started/\n",
      "\n"
     ]
    },
    {
     "data": {
      "text/plain": [
       "<Result cmd='docker run hello-world' exited=0>"
      ]
     },
     "execution_count": 9,
     "metadata": {},
     "output_type": "execute_result"
    }
   ],
   "source": [
    "# Set up Docker \n",
    "s.execute(\"curl -sSL https://get.docker.com/ | sudo sh\")\n",
    "s.execute(\"sudo groupadd -f docker; sudo usermod -aG docker $USER\")\n",
    "s.execute(\"docker run hello-world\")"
   ]
  },
  {
   "cell_type": "code",
   "execution_count": 10,
   "id": "3974e48b-c9d0-4aa0-aee3-dd76ec237c2a",
   "metadata": {},
   "outputs": [
    {
     "name": "stderr",
     "output_type": "stream",
     "text": [
      "\n",
      "WARNING: apt does not have a stable CLI interface. Use with caution in scripts.\n",
      "\n"
     ]
    },
    {
     "name": "stdout",
     "output_type": "stream",
     "text": [
      "Hit:1 https://download.docker.com/linux/ubuntu noble InRelease\n",
      "Hit:2 https://developer.download.nvidia.com/compute/cuda/repos/ubuntu2404/x86_64  InRelease\n",
      "Get:3 http://nova.clouds.archive.ubuntu.com/ubuntu noble InRelease [256 kB]\n",
      "Hit:4 http://security.ubuntu.com/ubuntu noble-security InRelease\n",
      "Get:5 http://nova.clouds.archive.ubuntu.com/ubuntu noble-updates InRelease [126 kB]\n",
      "Get:6 http://nova.clouds.archive.ubuntu.com/ubuntu noble-backports InRelease [126 kB]\n",
      "Fetched 508 kB in 1s (447 kB/s)\n",
      "Reading package lists...\n",
      "Building dependency tree...\n",
      "Reading state information...\n",
      "5 packages can be upgraded. Run 'apt list --upgradable' to see them.\n"
     ]
    },
    {
     "name": "stderr",
     "output_type": "stream",
     "text": [
      "--2025-05-13 16:33:12--  https://repo.radeon.com/amdgpu-install/6.3.3/ubuntu/noble/amdgpu-install_6.3.60303-1_all.deb\n",
      "Resolving repo.radeon.com (repo.radeon.com)... 23.221.22.214, 23.221.22.215, 2600:1404:6400:25::17de:f154, ...\n",
      "Connecting to repo.radeon.com (repo.radeon.com)|23.221.22.214|:443... connected.\n",
      "HTTP request sent, awaiting response... 200 OK\n",
      "Length: 16984 (17K) [application/octet-stream]\n",
      "Saving to: ‘amdgpu-install_6.3.60303-1_all.deb’\n",
      "\n",
      "     0K .......... ......                                     100% 47.0M=0s\n",
      "\n",
      "2025-05-13 16:33:12 (47.0 MB/s) - ‘amdgpu-install_6.3.60303-1_all.deb’ saved [16984/16984]\n",
      "\n",
      "\n",
      "WARNING: apt does not have a stable CLI interface. Use with caution in scripts.\n",
      "\n"
     ]
    },
    {
     "name": "stdout",
     "output_type": "stream",
     "text": [
      "Reading package lists...\n",
      "Building dependency tree...\n",
      "Reading state information...\n",
      "Recommended packages:\n",
      "  dialog\n",
      "The following NEW packages will be installed:\n",
      "  amdgpu-install\n",
      "0 upgraded, 1 newly installed, 0 to remove and 5 not upgraded.\n",
      "Need to get 0 B/17.0 kB of archives.\n",
      "After this operation, 74.8 kB of additional disk space will be used.\n",
      "Get:1 /home/cc/amdgpu-install_6.3.60303-1_all.deb amdgpu-install all 6.3.60303-2119913.24.04 [17.0 kB]\n"
     ]
    },
    {
     "name": "stderr",
     "output_type": "stream",
     "text": [
      "debconf: unable to initialize frontend: Dialog\n",
      "debconf: (Dialog frontend will not work on a dumb terminal, an emacs shell buffer, or without a controlling terminal.)\n",
      "debconf: falling back to frontend: Readline\n",
      "debconf: unable to initialize frontend: Readline\n",
      "debconf: (This frontend requires a controlling tty.)\n",
      "debconf: falling back to frontend: Teletype\n",
      "dpkg-preconfigure: unable to re-open stdin: \n"
     ]
    },
    {
     "name": "stdout",
     "output_type": "stream",
     "text": [
      "Selecting previously unselected package amdgpu-install.\n",
      "(Reading database ... 113813 files and directories currently installed.)\n",
      "Preparing to unpack .../amdgpu-install_6.3.60303-1_all.deb ...\n",
      "Unpacking amdgpu-install (6.3.60303-2119913.24.04) ...\n",
      "Setting up amdgpu-install (6.3.60303-2119913.24.04) ...\n"
     ]
    },
    {
     "name": "stderr",
     "output_type": "stream",
     "text": [
      "debconf: unable to initialize frontend: Dialog\n",
      "debconf: (Dialog frontend will not work on a dumb terminal, an emacs shell buffer, or without a controlling terminal.)\n",
      "debconf: falling back to frontend: Readline\n",
      "debconf: unable to initialize frontend: Readline\n",
      "debconf: (This frontend requires a controlling tty.)\n",
      "debconf: falling back to frontend: Teletype\n",
      "\n",
      "Running kernel seems to be up-to-date.\n",
      "\n",
      "The processor microcode seems to be up-to-date.\n",
      "\n",
      "No services need to be restarted.\n",
      "\n",
      "No containers need to be restarted.\n",
      "\n",
      "No user sessions are running outdated binaries.\n",
      "\n",
      "No VM guests are running outdated hypervisor (qemu) binaries on this host.\n",
      "\n",
      "WARNING: apt does not have a stable CLI interface. Use with caution in scripts.\n",
      "\n"
     ]
    },
    {
     "name": "stdout",
     "output_type": "stream",
     "text": [
      "Hit:1 https://download.docker.com/linux/ubuntu noble InRelease\n",
      "Hit:2 https://developer.download.nvidia.com/compute/cuda/repos/ubuntu2404/x86_64  InRelease\n",
      "Get:3 https://repo.radeon.com/amdgpu/6.3.3/ubuntu noble InRelease [5435 B]\n",
      "Get:4 https://repo.radeon.com/rocm/apt/6.3.3 noble InRelease [2605 B]\n",
      "Get:5 http://nova.clouds.archive.ubuntu.com/ubuntu noble InRelease [256 kB]\n",
      "Hit:6 http://security.ubuntu.com/ubuntu noble-security InRelease\n",
      "Get:7 https://repo.radeon.com/amdgpu/6.3.3/ubuntu noble/main amd64 Packages [14.1 kB]\n",
      "Get:8 https://repo.radeon.com/amdgpu/6.3.3/ubuntu noble/main i386 Packages [12.2 kB]\n",
      "Get:9 https://repo.radeon.com/rocm/apt/6.3.3 noble/main amd64 Packages [60.0 kB]\n",
      "Get:10 http://nova.clouds.archive.ubuntu.com/ubuntu noble-updates InRelease [126 kB]\n",
      "Get:11 http://nova.clouds.archive.ubuntu.com/ubuntu noble-backports InRelease [126 kB]\n",
      "Fetched 603 kB in 1s (535 kB/s)\n",
      "Reading package lists...\n",
      "Building dependency tree...\n",
      "Reading state information...\n",
      "5 packages can be upgraded. Run 'apt list --upgradable' to see them.\n"
     ]
    },
    {
     "data": {
      "text/plain": [
       "<Result cmd='sudo apt -y install ./amdgpu-install_6.3.60303-1_all.deb; sudo apt update' exited=0>"
      ]
     },
     "execution_count": 10,
     "metadata": {},
     "output_type": "execute_result"
    }
   ],
   "source": [
    "# Set up AMD GPU\n",
    "s.execute(\"sudo apt update; wget https://repo.radeon.com/amdgpu-install/6.3.3/ubuntu/noble/amdgpu-install_6.3.60303-1_all.deb\")\n",
    "s.execute(\"sudo apt -y install ./amdgpu-install_6.3.60303-1_all.deb; sudo apt update\")"
   ]
  },
  {
   "cell_type": "code",
   "execution_count": 11,
   "id": "86d60bad-0abe-41fa-83ff-dc727a5a7317",
   "metadata": {},
   "outputs": [
    {
     "name": "stdout",
     "output_type": "stream",
     "text": [
      "Hit:1 https://download.docker.com/linux/ubuntu noble InRelease\n",
      "Hit:2 https://repo.radeon.com/amdgpu/6.3.3/ubuntu noble InRelease\n",
      "Hit:3 https://developer.download.nvidia.com/compute/cuda/repos/ubuntu2404/x86_64  InRelease\n",
      "Hit:4 https://repo.radeon.com/rocm/apt/6.3.3 noble InRelease\n",
      "Get:5 http://nova.clouds.archive.ubuntu.com/ubuntu noble InRelease [256 kB]\n",
      "Get:6 http://nova.clouds.archive.ubuntu.com/ubuntu noble-updates InRelease [126 kB]\n",
      "Get:7 http://nova.clouds.archive.ubuntu.com/ubuntu noble-backports InRelease [126 kB]\n",
      "Hit:8 http://security.ubuntu.com/ubuntu noble-security InRelease\n",
      "Fetched 508 kB in 4s (117 kB/s)\n",
      "Reading package lists...\n",
      "Reading package lists...\n",
      "Building dependency tree...\n",
      "Reading state information...\n",
      "linux-headers-6.8.0-59-generic is already the newest version (6.8.0-59.61).\n",
      "linux-headers-6.8.0-59-generic set to manually installed.\n",
      "The following additional packages will be installed:\n",
      "  amdgpu-dkms-firmware autoconf automake autotools-dev m4\n",
      "Suggested packages:\n",
      "  autoconf-archive gnu-standards autoconf-doc libtool gettext m4-doc\n",
      "The following NEW packages will be installed:\n",
      "  amdgpu-dkms amdgpu-dkms-firmware autoconf automake autotools-dev m4\n",
      "0 upgraded, 6 newly installed, 0 to remove and 5 not upgraded.\n",
      "Need to get 27.9 MB of archives.\n",
      "After this operation, 620 MB of additional disk space will be used.\n",
      "Get:1 https://repo.radeon.com/amdgpu/6.3.3/ubuntu noble/main amd64 amdgpu-dkms-firmware all 1:6.10.5.60303-2119913.24.04 [15.1 MB]\n",
      "Get:2 https://repo.radeon.com/amdgpu/6.3.3/ubuntu noble/main amd64 amdgpu-dkms all 1:6.10.5.60303-2119913.24.04 [11.6 MB]\n",
      "Get:3 http://nova.clouds.archive.ubuntu.com/ubuntu noble/main amd64 m4 amd64 1.4.19-4build1 [244 kB]\n",
      "Get:4 http://nova.clouds.archive.ubuntu.com/ubuntu noble/main amd64 autoconf all 2.71-3 [339 kB]\n",
      "Get:5 http://nova.clouds.archive.ubuntu.com/ubuntu noble/main amd64 autotools-dev all 20220109.1 [44.9 kB]\n",
      "Get:6 http://nova.clouds.archive.ubuntu.com/ubuntu noble/main amd64 automake all 1:1.16.5-1.3ubuntu1 [558 kB]\n"
     ]
    },
    {
     "name": "stderr",
     "output_type": "stream",
     "text": [
      "debconf: unable to initialize frontend: Dialog\n",
      "debconf: (Dialog frontend will not work on a dumb terminal, an emacs shell buffer, or without a controlling terminal.)\n",
      "debconf: falling back to frontend: Readline\n",
      "debconf: unable to initialize frontend: Readline\n",
      "debconf: (This frontend requires a controlling tty.)\n",
      "debconf: falling back to frontend: Teletype\n",
      "dpkg-preconfigure: unable to re-open stdin: \n"
     ]
    },
    {
     "name": "stdout",
     "output_type": "stream",
     "text": [
      "Fetched 27.9 MB in 1s (22.5 MB/s)\n",
      "Selecting previously unselected package m4.\n",
      "(Reading database ... 113831 files and directories currently installed.)\n",
      "Preparing to unpack .../0-m4_1.4.19-4build1_amd64.deb ...\n",
      "Unpacking m4 (1.4.19-4build1) ...\n",
      "Selecting previously unselected package autoconf.\n",
      "Preparing to unpack .../1-autoconf_2.71-3_all.deb ...\n",
      "Unpacking autoconf (2.71-3) ...\n",
      "Selecting previously unselected package autotools-dev.\n",
      "Preparing to unpack .../2-autotools-dev_20220109.1_all.deb ...\n",
      "Unpacking autotools-dev (20220109.1) ...\n",
      "Selecting previously unselected package automake.\n",
      "Preparing to unpack .../3-automake_1%3a1.16.5-1.3ubuntu1_all.deb ...\n",
      "Unpacking automake (1:1.16.5-1.3ubuntu1) ...\n",
      "Selecting previously unselected package amdgpu-dkms-firmware.\n",
      "Preparing to unpack .../4-amdgpu-dkms-firmware_1%3a6.10.5.60303-2119913.24.04_all.deb ...\n",
      "Unpacking amdgpu-dkms-firmware (1:6.10.5.60303-2119913.24.04) ...\n",
      "Selecting previously unselected package amdgpu-dkms.\n",
      "Preparing to unpack .../5-amdgpu-dkms_1%3a6.10.5.60303-2119913.24.04_all.deb ...\n",
      "Unpacking amdgpu-dkms (1:6.10.5.60303-2119913.24.04) ...\n",
      "Setting up m4 (1.4.19-4build1) ...\n",
      "Setting up autotools-dev (20220109.1) ...\n",
      "Setting up autoconf (2.71-3) ...\n",
      "Setting up amdgpu-dkms-firmware (1:6.10.5.60303-2119913.24.04) ...\n",
      "Setting up automake (1:1.16.5-1.3ubuntu1) ...\n",
      "update-alternatives: using /usr/bin/automake-1.16 to provide /usr/bin/automake (automake) in auto mode\n",
      "Setting up amdgpu-dkms (1:6.10.5.60303-2119913.24.04) ...\n",
      "debconf: unable to initialize frontend: Dialog\n",
      "debconf: (Dialog frontend will not work on a dumb terminal, an emacs shell buffer, or without a controlling terminal.)\n",
      "debconf: falling back to frontend: Readline\n",
      "debconf: unable to initialize frontend: Readline\n",
      "debconf: (This frontend requires a controlling tty.)\n",
      "debconf: falling back to frontend: Teletype\n",
      "Loading new amdgpu-6.10.5-2119913.24.04 DKMS files...\n",
      "Building for 6.8.0-59-generic\n",
      "Building for architecture x86_64\n",
      "Building initial module for 6.8.0-59-generic\n",
      "Done.\n",
      "Forcing installation of amdgpu\n",
      "\n",
      "amdgpu.ko.zst:\n",
      "Running module version sanity check.\n",
      " - Original module\n",
      " - Installation\n",
      "   - Installing to /lib/modules/6.8.0-59-generic/updates/dkms/\n",
      "\n",
      "amdttm.ko.zst:\n",
      "Running module version sanity check.\n",
      " - Original module\n",
      " - Installation\n",
      "   - Installing to /lib/modules/6.8.0-59-generic/updates/dkms/\n",
      "\n",
      "amdkcl.ko.zst:\n",
      "Running module version sanity check.\n",
      " - Original module\n",
      " - Installation\n",
      "   - Installing to /lib/modules/6.8.0-59-generic/updates/dkms/\n",
      "\n",
      "amd-sched.ko.zst:\n",
      "Running module version sanity check.\n",
      " - Original module\n",
      " - Installation\n",
      "   - Installing to /lib/modules/6.8.0-59-generic/updates/dkms/\n",
      "\n",
      "amddrm_ttm_helper.ko.zst:\n",
      "Running module version sanity check.\n",
      " - Original module\n",
      " - Installation\n",
      "   - Installing to /lib/modules/6.8.0-59-generic/updates/dkms/\n",
      "\n",
      "amddrm_buddy.ko.zst:\n",
      "Running module version sanity check.\n",
      " - Original module\n",
      " - Installation\n",
      "   - Installing to /lib/modules/6.8.0-59-generic/updates/dkms/\n",
      "\n",
      "amdxcp.ko.zst:\n",
      "Running module version sanity check.\n",
      " - Original module\n",
      " - Installation\n",
      "   - Installing to /lib/modules/6.8.0-59-generic/updates/dkms/\n",
      "depmod....\n",
      "update-initramfs: Generating /boot/initrd.img-6.8.0-59-generic\n",
      "Processing triggers for man-db (2.12.0-4build2) ...\n",
      "Processing triggers for install-info (7.1-3build2) ...\n"
     ]
    },
    {
     "name": "stderr",
     "output_type": "stream",
     "text": [
      "debconf: unable to initialize frontend: Dialog\n",
      "debconf: (Dialog frontend will not work on a dumb terminal, an emacs shell buffer, or without a controlling terminal.)\n",
      "debconf: falling back to frontend: Readline\n",
      "debconf: unable to initialize frontend: Readline\n",
      "debconf: (This frontend requires a controlling tty.)\n",
      "debconf: falling back to frontend: Teletype\n",
      "\n",
      "Running kernel seems to be up-to-date.\n",
      "\n",
      "The processor microcode seems to be up-to-date.\n",
      "\n",
      "No services need to be restarted.\n",
      "\n",
      "No containers need to be restarted.\n",
      "\n",
      "No user sessions are running outdated binaries.\n",
      "\n",
      "No VM guests are running outdated hypervisor (qemu) binaries on this host.\n"
     ]
    },
    {
     "data": {
      "text/plain": [
       "<Result cmd='amdgpu-install -y --usecase=dkms' exited=0>"
      ]
     },
     "execution_count": 11,
     "metadata": {},
     "output_type": "execute_result"
    }
   ],
   "source": [
    "s.execute(\"amdgpu-install -y --usecase=dkms\")"
   ]
  },
  {
   "cell_type": "code",
   "execution_count": 12,
   "id": "a56d3fb2-96f5-4940-af9c-597fe0cf19c2",
   "metadata": {},
   "outputs": [
    {
     "name": "stderr",
     "output_type": "stream",
     "text": [
      "\n",
      "WARNING: apt does not have a stable CLI interface. Use with caution in scripts.\n",
      "\n"
     ]
    },
    {
     "name": "stdout",
     "output_type": "stream",
     "text": [
      "Reading package lists...\n",
      "Building dependency tree...\n",
      "Reading state information...\n",
      "The following additional packages will be installed:\n",
      "  librocm-smi64-1\n",
      "The following NEW packages will be installed:\n",
      "  librocm-smi64-1 rocm-smi\n",
      "0 upgraded, 2 newly installed, 0 to remove and 5 not upgraded.\n",
      "Need to get 362 kB of archives.\n",
      "After this operation, 1744 kB of additional disk space will be used.\n",
      "Get:1 http://nova.clouds.archive.ubuntu.com/ubuntu noble/universe amd64 librocm-smi64-1 amd64 5.7.0-1 [309 kB]\n",
      "Get:2 http://nova.clouds.archive.ubuntu.com/ubuntu noble/universe amd64 rocm-smi amd64 5.7.0-1 [52.9 kB]\n"
     ]
    },
    {
     "name": "stderr",
     "output_type": "stream",
     "text": [
      "debconf: unable to initialize frontend: Dialog\n",
      "debconf: (Dialog frontend will not work on a dumb terminal, an emacs shell buffer, or without a controlling terminal.)\n",
      "debconf: falling back to frontend: Readline\n",
      "debconf: unable to initialize frontend: Readline\n",
      "debconf: (This frontend requires a controlling tty.)\n",
      "debconf: falling back to frontend: Teletype\n",
      "dpkg-preconfigure: unable to re-open stdin: \n"
     ]
    },
    {
     "name": "stdout",
     "output_type": "stream",
     "text": [
      "Fetched 362 kB in 1s (369 kB/s)\n",
      "Selecting previously unselected package librocm-smi64-1.\n",
      "(Reading database ... 118239 files and directories currently installed.)\n",
      "Preparing to unpack .../librocm-smi64-1_5.7.0-1_amd64.deb ...\n",
      "Unpacking librocm-smi64-1 (5.7.0-1) ...\n",
      "Selecting previously unselected package rocm-smi.\n",
      "Preparing to unpack .../rocm-smi_5.7.0-1_amd64.deb ...\n",
      "Unpacking rocm-smi (5.7.0-1) ...\n",
      "Setting up librocm-smi64-1 (5.7.0-1) ...\n",
      "Setting up rocm-smi (5.7.0-1) ...\n",
      "Processing triggers for man-db (2.12.0-4build2) ...\n",
      "Processing triggers for libc-bin (2.39-0ubuntu8.4) ...\n"
     ]
    },
    {
     "name": "stderr",
     "output_type": "stream",
     "text": [
      "debconf: unable to initialize frontend: Dialog\n",
      "debconf: (Dialog frontend will not work on a dumb terminal, an emacs shell buffer, or without a controlling terminal.)\n",
      "debconf: falling back to frontend: Readline\n",
      "debconf: unable to initialize frontend: Readline\n",
      "debconf: (This frontend requires a controlling tty.)\n",
      "debconf: falling back to frontend: Teletype\n",
      "\n",
      "Running kernel seems to be up-to-date.\n",
      "\n",
      "The processor microcode seems to be up-to-date.\n",
      "\n",
      "No services need to be restarted.\n",
      "\n",
      "No containers need to be restarted.\n",
      "\n",
      "No user sessions are running outdated binaries.\n",
      "\n",
      "No VM guests are running outdated hypervisor (qemu) binaries on this host.\n"
     ]
    },
    {
     "data": {
      "text/plain": [
       "<Result cmd='sudo apt -y install rocm-smi' exited=0>"
      ]
     },
     "execution_count": 12,
     "metadata": {},
     "output_type": "execute_result"
    }
   ],
   "source": [
    "s.execute(\"sudo apt -y install rocm-smi\")"
   ]
  },
  {
   "cell_type": "code",
   "execution_count": 13,
   "id": "ad27175b-cdd1-44ea-876a-144b065dc029",
   "metadata": {},
   "outputs": [
    {
     "data": {
      "text/plain": [
       "<Result cmd='sudo usermod -aG video,render $USER' exited=0>"
      ]
     },
     "execution_count": 13,
     "metadata": {},
     "output_type": "execute_result"
    }
   ],
   "source": [
    "s.execute(\"sudo usermod -aG video,render $USER\")"
   ]
  },
  {
   "cell_type": "code",
   "execution_count": 14,
   "id": "a119f086-1ac4-4afe-aead-2ef75acb6b77",
   "metadata": {},
   "outputs": [],
   "source": [
    "s.execute(\"sudo reboot\")\n",
    "time.sleep(30)"
   ]
  },
  {
   "cell_type": "code",
   "execution_count": 15,
   "id": "c1246dd1-070e-4527-96f8-ae46c6680d2d",
   "metadata": {},
   "outputs": [
    {
     "name": "stdout",
     "output_type": "stream",
     "text": [
      "Checking connectivity to 129.114.108.92 port 22.\n"
     ]
    },
    {
     "data": {
      "application/vnd.jupyter.widget-view+json": {
       "model_id": "3ce851f49abe4a6885c7924f0bb3bfa9",
       "version_major": 2,
       "version_minor": 0
      },
      "text/plain": [
       "HBox(children=(Label(value=''), IntProgress(value=0, bar_style='success')))"
      ]
     },
     "metadata": {},
     "output_type": "display_data"
    },
    {
     "name": "stdout",
     "output_type": "stream",
     "text": [
      "Connection successful\n"
     ]
    }
   ],
   "source": [
    "s.refresh()\n",
    "s.check_connectivity()"
   ]
  },
  {
   "cell_type": "code",
   "execution_count": 16,
   "id": "2bb35c38-649b-4470-b48e-feda54b95d00",
   "metadata": {},
   "outputs": [
    {
     "name": "stdout",
     "output_type": "stream",
     "text": [
      "\n",
      "\n",
      "========================= ROCm System Management Interface =========================\n",
      "=================================== Concise Info ===================================\n",
      "GPU  Temp (DieEdge)  AvgPwr  SCLK    MCLK     Fan  Perf  PwrCap  VRAM%  GPU%  \n",
      "0    26.0c           34.0W   300Mhz  1200Mhz  0%   auto  290.0W    0%   0%    \n",
      "1    26.0c           34.0W   300Mhz  1200Mhz  0%   auto  290.0W    0%   0%    \n",
      "====================================================================================\n",
      "=============================== End of ROCm SMI Log ================================\n"
     ]
    },
    {
     "data": {
      "text/plain": [
       "<Result cmd='rocm-smi' exited=0>"
      ]
     },
     "execution_count": 16,
     "metadata": {},
     "output_type": "execute_result"
    }
   ],
   "source": [
    "s.execute(\"rocm-smi\")"
   ]
  },
  {
   "cell_type": "code",
   "execution_count": 17,
   "id": "b1577a09-8c44-494b-8e4f-d6dee496995a",
   "metadata": {},
   "outputs": [
    {
     "name": "stderr",
     "output_type": "stream",
     "text": [
      "\n",
      "WARNING: apt does not have a stable CLI interface. Use with caution in scripts.\n",
      "\n"
     ]
    },
    {
     "name": "stdout",
     "output_type": "stream",
     "text": [
      "Hit:1 https://developer.download.nvidia.com/compute/cuda/repos/ubuntu2404/x86_64  InRelease\n",
      "Hit:2 https://download.docker.com/linux/ubuntu noble InRelease\n",
      "Hit:3 https://repo.radeon.com/amdgpu/6.3.3/ubuntu noble InRelease\n",
      "Hit:4 https://repo.radeon.com/rocm/apt/6.3.3 noble InRelease\n",
      "Get:5 http://nova.clouds.archive.ubuntu.com/ubuntu noble InRelease [256 kB]\n",
      "Hit:6 http://security.ubuntu.com/ubuntu noble-security InRelease\n",
      "Hit:7 http://nova.clouds.archive.ubuntu.com/ubuntu noble-updates InRelease\n",
      "Hit:8 http://nova.clouds.archive.ubuntu.com/ubuntu noble-backports InRelease\n",
      "Fetched 256 kB in 1s (409 kB/s)\n",
      "Reading package lists...\n",
      "Building dependency tree...\n",
      "Reading state information...\n",
      "5 packages can be upgraded. Run 'apt list --upgradable' to see them.\n"
     ]
    },
    {
     "name": "stderr",
     "output_type": "stream",
     "text": [
      "\n",
      "WARNING: apt does not have a stable CLI interface. Use with caution in scripts.\n",
      "\n"
     ]
    },
    {
     "name": "stdout",
     "output_type": "stream",
     "text": [
      "Reading package lists...\n",
      "Building dependency tree...\n",
      "Reading state information...\n",
      "The following NEW packages will be installed:\n",
      "  nvtop\n",
      "0 upgraded, 1 newly installed, 0 to remove and 5 not upgraded.\n",
      "Need to get 62.8 kB of archives.\n",
      "After this operation, 180 kB of additional disk space will be used.\n",
      "Get:1 http://nova.clouds.archive.ubuntu.com/ubuntu noble/multiverse amd64 nvtop amd64 3.0.2-1 [62.8 kB]\n"
     ]
    },
    {
     "name": "stderr",
     "output_type": "stream",
     "text": [
      "debconf: unable to initialize frontend: Dialog\n",
      "debconf: (Dialog frontend will not work on a dumb terminal, an emacs shell buffer, or without a controlling terminal.)\n",
      "debconf: falling back to frontend: Readline\n",
      "debconf: unable to initialize frontend: Readline\n",
      "debconf: (This frontend requires a controlling tty.)\n",
      "debconf: falling back to frontend: Teletype\n",
      "dpkg-preconfigure: unable to re-open stdin: \n"
     ]
    },
    {
     "name": "stdout",
     "output_type": "stream",
     "text": [
      "Fetched 62.8 kB in 0s (229 kB/s)\n",
      "Selecting previously unselected package nvtop.\n",
      "(Reading database ... 118254 files and directories currently installed.)\n",
      "Preparing to unpack .../nvtop_3.0.2-1_amd64.deb ...\n",
      "Unpacking nvtop (3.0.2-1) ...\n",
      "Setting up nvtop (3.0.2-1) ...\n",
      "Processing triggers for man-db (2.12.0-4build2) ...\n"
     ]
    },
    {
     "name": "stderr",
     "output_type": "stream",
     "text": [
      "debconf: unable to initialize frontend: Dialog\n",
      "debconf: (Dialog frontend will not work on a dumb terminal, an emacs shell buffer, or without a controlling terminal.)\n",
      "debconf: falling back to frontend: Readline\n",
      "debconf: unable to initialize frontend: Readline\n",
      "debconf: (This frontend requires a controlling tty.)\n",
      "debconf: falling back to frontend: Teletype\n",
      "\n",
      "Running kernel seems to be up-to-date.\n",
      "\n",
      "The processor microcode seems to be up-to-date.\n",
      "\n",
      "No services need to be restarted.\n",
      "\n",
      "No containers need to be restarted.\n",
      "\n",
      "No user sessions are running outdated binaries.\n",
      "\n",
      "No VM guests are running outdated hypervisor (qemu) binaries on this host.\n"
     ]
    },
    {
     "data": {
      "text/plain": [
       "<Result cmd='sudo apt -y install nvtop' exited=0>"
      ]
     },
     "execution_count": 17,
     "metadata": {},
     "output_type": "execute_result"
    }
   ],
   "source": [
    "# Install nvtop\n",
    "s.execute(\"sudo apt update\")\n",
    "s.execute(\"sudo apt -y install nvtop\")"
   ]
  },
  {
   "cell_type": "code",
   "execution_count": 18,
   "id": "c6b53245-a860-48c5-ba26-23627e3f4a8a",
   "metadata": {
    "tags": []
   },
   "outputs": [
    {
     "name": "stderr",
     "output_type": "stream",
     "text": [
      "\n",
      "WARNING: apt does not have a stable CLI interface. Use with caution in scripts.\n",
      "\n"
     ]
    },
    {
     "name": "stdout",
     "output_type": "stream",
     "text": [
      "Hit:1 https://download.docker.com/linux/ubuntu noble InRelease\n",
      "Hit:2 https://repo.radeon.com/amdgpu/6.3.3/ubuntu noble InRelease\n",
      "Hit:3 https://developer.download.nvidia.com/compute/cuda/repos/ubuntu2404/x86_64  InRelease\n",
      "Hit:4 https://repo.radeon.com/rocm/apt/6.3.3 noble InRelease\n",
      "Get:5 http://nova.clouds.archive.ubuntu.com/ubuntu noble InRelease [256 kB]\n",
      "Hit:6 http://security.ubuntu.com/ubuntu noble-security InRelease\n",
      "Get:7 http://nova.clouds.archive.ubuntu.com/ubuntu noble-updates InRelease [126 kB]\n",
      "Get:8 http://nova.clouds.archive.ubuntu.com/ubuntu noble-backports InRelease [126 kB]\n",
      "Fetched 508 kB in 1s (447 kB/s)\n",
      "Reading package lists...\n",
      "Building dependency tree...\n",
      "Reading state information...\n",
      "5 packages can be upgraded. Run 'apt list --upgradable' to see them.\n"
     ]
    },
    {
     "name": "stderr",
     "output_type": "stream",
     "text": [
      "\n",
      "WARNING: apt does not have a stable CLI interface. Use with caution in scripts.\n",
      "\n"
     ]
    },
    {
     "name": "stdout",
     "output_type": "stream",
     "text": [
      "Reading package lists...\n",
      "Building dependency tree...\n",
      "Reading state information...\n",
      "python3-venv is already the newest version (3.12.3-0ubuntu2).\n",
      "The following NEW packages will be installed:\n",
      "  python3-pip python3-wheel\n",
      "0 upgraded, 2 newly installed, 0 to remove and 5 not upgraded.\n",
      "Need to get 1370 kB of archives.\n",
      "After this operation, 7234 kB of additional disk space will be used.\n",
      "Get:1 http://nova.clouds.archive.ubuntu.com/ubuntu noble/universe amd64 python3-wheel all 0.42.0-2 [53.1 kB]\n",
      "Get:2 http://nova.clouds.archive.ubuntu.com/ubuntu noble-updates/universe amd64 python3-pip all 24.0+dfsg-1ubuntu1.1 [1317 kB]\n"
     ]
    },
    {
     "name": "stderr",
     "output_type": "stream",
     "text": [
      "debconf: unable to initialize frontend: Dialog\n",
      "debconf: (Dialog frontend will not work on a dumb terminal, an emacs shell buffer, or without a controlling terminal.)\n",
      "debconf: falling back to frontend: Readline\n",
      "debconf: unable to initialize frontend: Readline\n",
      "debconf: (This frontend requires a controlling tty.)\n",
      "debconf: falling back to frontend: Teletype\n",
      "dpkg-preconfigure: unable to re-open stdin: \n"
     ]
    },
    {
     "name": "stdout",
     "output_type": "stream",
     "text": [
      "Fetched 1370 kB in 1s (1242 kB/s)\n",
      "Selecting previously unselected package python3-wheel.\n",
      "(Reading database ... 118262 files and directories currently installed.)\n",
      "Preparing to unpack .../python3-wheel_0.42.0-2_all.deb ...\n",
      "Unpacking python3-wheel (0.42.0-2) ...\n",
      "Selecting previously unselected package python3-pip.\n",
      "Preparing to unpack .../python3-pip_24.0+dfsg-1ubuntu1.1_all.deb ...\n",
      "Unpacking python3-pip (24.0+dfsg-1ubuntu1.1) ...\n",
      "Setting up python3-wheel (0.42.0-2) ...\n",
      "Setting up python3-pip (24.0+dfsg-1ubuntu1.1) ...\n",
      "Processing triggers for man-db (2.12.0-4build2) ...\n"
     ]
    },
    {
     "name": "stderr",
     "output_type": "stream",
     "text": [
      "debconf: unable to initialize frontend: Dialog\n",
      "debconf: (Dialog frontend will not work on a dumb terminal, an emacs shell buffer, or without a controlling terminal.)\n",
      "debconf: falling back to frontend: Readline\n",
      "debconf: unable to initialize frontend: Readline\n",
      "debconf: (This frontend requires a controlling tty.)\n",
      "debconf: falling back to frontend: Teletype\n",
      "\n",
      "Running kernel seems to be up-to-date.\n",
      "\n",
      "The processor microcode seems to be up-to-date.\n",
      "\n",
      "No services need to be restarted.\n",
      "\n",
      "No containers need to be restarted.\n",
      "\n",
      "No user sessions are running outdated binaries.\n",
      "\n",
      "No VM guests are running outdated hypervisor (qemu) binaries on this host.\n"
     ]
    },
    {
     "data": {
      "text/plain": [
       "<Result cmd='\\nsudo apt update\\nsudo apt install -y python3-pip python3-venv\\n' exited=0>"
      ]
     },
     "execution_count": 18,
     "metadata": {},
     "output_type": "execute_result"
    }
   ],
   "source": [
    "# Update and install pip\n",
    "s.execute(\"\"\"\n",
    "sudo apt update\n",
    "sudo apt install -y python3-pip python3-venv\n",
    "\"\"\")"
   ]
  }
 ],
 "metadata": {
  "kernelspec": {
   "display_name": "Python 3 (ipykernel)",
   "language": "python",
   "name": "python3"
  },
  "language_info": {
   "codemirror_mode": {
    "name": "ipython",
    "version": 3
   },
   "file_extension": ".py",
   "mimetype": "text/x-python",
   "name": "python",
   "nbconvert_exporter": "python",
   "pygments_lexer": "ipython3",
   "version": "3.10.9"
  }
 },
 "nbformat": 4,
 "nbformat_minor": 5
}
