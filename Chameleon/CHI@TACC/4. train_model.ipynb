{
 "cells": [
  {
   "cell_type": "markdown",
   "id": "589b657f-307a-4039-8e83-fba5ef7ca384",
   "metadata": {},
   "source": [
    "## Train model\n",
    "\n",
    "You can train the model using train.py file inside the /model/ path\n",
    "\n",
    "``` bash\n",
    "# run on node-mltrain\n",
    "cd model\n",
    "python3 train.py\n",
    "```\n",
    "or the smaller training model with a limite dataset\n",
    "\n",
    "``` bash\n",
    "# run on node-mltrain\n",
    "cd model\n",
    "python3 train_small.py\n",
    "```\n",
    "The training weights will be save to /model/trained_model/pytorch_model.bin\n",
    "You will also see the training track on MLFlow and the model object saved MinIO\n",
    "You can convert it to .onnx file using the export_onnx.py in model/\n",
    "\n",
    "``` bash\n",
    "# run on node-mltrain\n",
    "python3 export_onnx.py\n",
    "```\n",
    "\n",
    "Then, move the new .onnx to the fastapi_pt for a new deploy"
   ]
  }
 ],
 "metadata": {
  "kernelspec": {
   "display_name": "Python 3 (ipykernel)",
   "language": "python",
   "name": "python3"
  },
  "language_info": {
   "codemirror_mode": {
    "name": "ipython",
    "version": 3
   },
   "file_extension": ".py",
   "mimetype": "text/x-python",
   "name": "python",
   "nbconvert_exporter": "python",
   "pygments_lexer": "ipython3",
   "version": "3.10.9"
  }
 },
 "nbformat": 4,
 "nbformat_minor": 5
}
