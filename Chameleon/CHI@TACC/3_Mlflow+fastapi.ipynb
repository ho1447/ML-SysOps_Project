{
 "cells": [
  {
   "cell_type": "markdown",
   "id": "589b657f-307a-4039-8e83-fba5ef7ca384",
   "metadata": {},
   "source": [
    "## Start MLFlow tracking server system\n",
    "\n",
    "Now we are ready to get it started! Bring up our MLFlow system with:\n",
    "\n",
    "``` bash\n",
    "# run on node-mltrain\n",
    "docker compose -f ML-SysOps_Project/docker/docker-compose-block.yaml up -d\n",
    "```\n",
    "\n",
    "which will pull each container image, then start them.\n",
    "\n",
    "When it is finished, the output of\n",
    "\n",
    "``` bash\n",
    "# run on node-mltrain\n",
    "docker ps\n",
    "```\n",
    "\n",
    "should show that the `minio`, `postgres`, and `mlflow` containers are running."
   ]
  },
  {
   "cell_type": "markdown",
   "id": "00b90a98-b250-482e-b09e-3cd0dbb2acc9",
   "metadata": {},
   "source": [
    "Access MLFlow with http:/floatingip:8000\n",
    "\n",
    "Access Fastapi with http:/floatingip:5000:docs\n",
    "\n",
    "Access MinIO with http:/floatingip:9000\n",
    "username: your-access-key\n",
    "password: your-secret-key"
   ]
  },
  {
   "cell_type": "code",
   "execution_count": null,
   "id": "b5a9d057-1048-4e32-bb64-2926baafed11",
   "metadata": {},
   "outputs": [],
   "source": []
  }
 ],
 "metadata": {
  "kernelspec": {
   "display_name": "Python 3 (ipykernel)",
   "language": "python",
   "name": "python3"
  },
  "language_info": {
   "codemirror_mode": {
    "name": "ipython",
    "version": 3
   },
   "file_extension": ".py",
   "mimetype": "text/x-python",
   "name": "python",
   "nbconvert_exporter": "python",
   "pygments_lexer": "ipython3",
   "version": "3.10.9"
  }
 },
 "nbformat": 4,
 "nbformat_minor": 5
}
