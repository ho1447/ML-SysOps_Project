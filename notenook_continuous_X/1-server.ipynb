{
 "cells": [
  {
   "cell_type": "markdown",
   "id": "34f8037b-62c7-4fa9-bfd9-0d9cf45ea8e9",
   "metadata": {},
   "source": [
    "The Modular-Speech Continuous X Pipeline sets up infrastructure predominantly on KVM@TACC using Chameleon Cloud. We start by selecting the site."
   ]
  },
  {
   "cell_type": "code",
   "execution_count": 1,
   "id": "2696209f-8e91-47a6-aef3-cac6d4d2088b",
   "metadata": {
    "tags": []
   },
   "outputs": [
    {
     "data": {
      "application/vnd.jupyter.widget-view+json": {
       "model_id": "f6c1f12b082742029e84bff65bba92da",
       "version_major": 2,
       "version_minor": 0
      },
      "text/plain": [
       "VBox(children=(Dropdown(description='Select Site', index=7, options=('CHI@TACC', 'CHI@UC', 'CHI@EVL', 'CHI@NCA…"
      ]
     },
     "metadata": {},
     "output_type": "display_data"
    }
   ],
   "source": [
    "from chi import server, context\n",
    "\n",
    "context.version = \"1.0\" \n",
    "context.choose_site(default=\"KVM@TACC\")"
   ]
  },
  {
   "cell_type": "code",
   "execution_count": null,
   "id": "b73417ba-b196-43db-b41a-d493d9054c3f",
   "metadata": {},
   "outputs": [],
   "source": []
  }
 ],
 "metadata": {
  "kernelspec": {
   "display_name": "Python 3 (ipykernel)",
   "language": "python",
   "name": "python3"
  },
  "language_info": {
   "codemirror_mode": {
    "name": "ipython",
    "version": 3
   },
   "file_extension": ".py",
   "mimetype": "text/x-python",
   "name": "python",
   "nbconvert_exporter": "python",
   "pygments_lexer": "ipython3",
   "version": "3.12.2"
  }
 },
 "nbformat": 4,
 "nbformat_minor": 5
}
