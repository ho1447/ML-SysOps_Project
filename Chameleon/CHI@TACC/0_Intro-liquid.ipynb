{
 "cells": [
  {
   "cell_type": "markdown",
   "id": "9b864d3b-daf8-49c8-aa8b-f9ecbb56eeef",
   "metadata": {},
   "source": [
    "## Bring up a GPU server"
   ]
  },
  {
   "cell_type": "code",
   "execution_count": null,
   "id": "0612deac-2981-4c16-befc-18079e89d798",
   "metadata": {
    "tags": []
   },
   "outputs": [],
   "source": [
    "from chi import server, context, lease\n",
    "import os\n",
    "\n",
    "context.version = \"1.0\" \n",
    "context.choose_project()\n",
    "context.choose_site(default=\"CHI@TACC\")"
   ]
  },
  {
   "cell_type": "code",
   "execution_count": null,
   "id": "c6a39832-53e3-45e0-84f2-6f03e07c9b44",
   "metadata": {
    "tags": []
   },
   "outputs": [],
   "source": [
    "s = server.Server(\n",
    "    f\"node-model-Project31\", \n",
    "    reservation_id=l.node_reservations[0][\"id\"],\n",
    "    image_name=\"CC-Ubuntu24.04-CUDA\"\n",
    ")\n",
    "s.submit(idempotent=True)"
   ]
  },
  {
   "cell_type": "code",
   "execution_count": null,
   "id": "61e765f7-6467-46cd-b656-c9ca7e31458d",
   "metadata": {},
   "outputs": [],
   "source": [
    "s.associate_floating_ip()"
   ]
  },
  {
   "cell_type": "code",
   "execution_count": null,
   "id": "07c8cb74-4a76-4bd3-81eb-440a9ef6d22b",
   "metadata": {},
   "outputs": [],
   "source": [
    "s.refresh()\n",
    "s.check_connectivity()"
   ]
  },
  {
   "cell_type": "code",
   "execution_count": null,
   "id": "354559f4-9e4f-45ba-ba30-57f962b6394d",
   "metadata": {
    "tags": []
   },
   "outputs": [],
   "source": [
    "s.refresh()\n",
    "s.show(type=\"widget\")"
   ]
  },
  {
   "cell_type": "markdown",
   "id": "f06a51c7-1be3-4708-8503-e059bbbee058",
   "metadata": {},
   "source": [
    "## Retrive Code & Set up applications"
   ]
  },
  {
   "cell_type": "code",
   "execution_count": null,
   "id": "b1ad2307-bf2b-4319-badc-f954b352ea97",
   "metadata": {
    "tags": []
   },
   "outputs": [],
   "source": [
    "# clone from the group github\n",
    "s.execute(\"git clone https://github.com/ho1447/ML-SysOps_Project.git\")"
   ]
  },
  {
   "cell_type": "code",
   "execution_count": null,
   "id": "d3ce7ea9-ee63-4393-a141-0b64c318e961",
   "metadata": {
    "tags": []
   },
   "outputs": [],
   "source": [
    "# Set up Docker \n",
    "s.execute(\"curl -sSL https://get.docker.com/ | sudo sh\")\n",
    "s.execute(\"sudo groupadd -f docker; sudo usermod -aG docker $USER\")\n",
    "s.execute(\"docker run hello-world\")"
   ]
  },
  {
   "cell_type": "code",
   "execution_count": null,
   "id": "3974e48b-c9d0-4aa0-aee3-dd76ec237c2a",
   "metadata": {},
   "outputs": [],
   "source": [
    "# Set up NVIDIA tool kit\n",
    "s.execute(\"curl -fsSL https://nvidia.github.io/libnvidia-container/gpgkey | sudo gpg --dearmor -o /usr/share/keyrings/nvidia-container-toolkit-keyring.gpg \\\n",
    "  && curl -s -L https://nvidia.github.io/libnvidia-container/stable/deb/nvidia-container-toolkit.list | \\\n",
    "    sed 's#deb https://#deb [signed-by=/usr/share/keyrings/nvidia-container-toolkit-keyring.gpg] https://#g' | \\\n",
    "    sudo tee /etc/apt/sources.list.d/nvidia-container-toolkit.list\")\n",
    "s.execute(\"sudo apt update\")\n",
    "s.execute(\"sudo apt-get install -y nvidia-container-toolkit\")\n",
    "s.execute(\"sudo nvidia-ctk runtime configure --runtime=docker\")\n",
    "# for https://github.com/NVIDIA/nvidia-container-toolkit/issues/48\n",
    "s.execute(\"sudo jq 'if has(\\\"exec-opts\\\") then . else . + {\\\"exec-opts\\\": [\\\"native.cgroupdriver=cgroupfs\\\"]} end' /etc/docker/daemon.json | sudo tee /etc/docker/daemon.json.tmp > /dev/null && sudo mv /etc/docker/daemon.json.tmp /etc/docker/daemon.json\")\n",
    "s.execute(\"sudo systemctl restart docker\")"
   ]
  },
  {
   "cell_type": "code",
   "execution_count": null,
   "id": "b1577a09-8c44-494b-8e4f-d6dee496995a",
   "metadata": {},
   "outputs": [],
   "source": [
    "# Install nvtop\n",
    "s.execute(\"sudo apt update\")\n",
    "s.execute(\"sudo apt -y install nvtop\")"
   ]
  },
  {
   "cell_type": "code",
   "execution_count": null,
   "id": "c6b53245-a860-48c5-ba26-23627e3f4a8a",
   "metadata": {
    "tags": []
   },
   "outputs": [],
   "source": [
    "# Update and install pip\n",
    "s.execute(\"\"\"\n",
    "sudo apt update\n",
    "sudo apt install -y python3-pip python3-venv\n",
    "\"\"\")"
   ]
  }
 ],
 "metadata": {
  "kernelspec": {
   "display_name": "Python 3 (ipykernel)",
   "language": "python",
   "name": "python3"
  },
  "language_info": {
   "codemirror_mode": {
    "name": "ipython",
    "version": 3
   },
   "file_extension": ".py",
   "mimetype": "text/x-python",
   "name": "python",
   "nbconvert_exporter": "python",
   "pygments_lexer": "ipython3",
   "version": "3.10.9"
  }
 },
 "nbformat": 4,
 "nbformat_minor": 5
}
