{
 "cells": [
  {
   "cell_type": "markdown",
   "id": "41a190bb-2566-4047-bc08-a80dbf396930",
   "metadata": {},
   "source": [
    "## ArgoCD for Kubernetes Application Management\n",
    "\n",
    "Now that our Kubernetes cluster is set up, we can use ArgoCD to deploy and manage applications on it!"
   ]
  },
  {
   "cell_type": "code",
   "execution_count": null,
   "id": "97052ad0-ef54-419b-b58e-e928365e833c",
   "metadata": {
    "tags": []
   },
   "outputs": [],
   "source": [
    "export PATH=/work/.local/bin:$PATH\n",
    "export PYTHONUSERBASE=/work/.local\n",
    "export ANSIBLE_CONFIG=/work/ML-SysOps_Project-main\\ 2/continous_X_pipeline/ansible/ansible.cfg\n",
    "export ANSIBLE_ROLES_PATH=roles"
   ]
  },
  {
   "cell_type": "markdown",
   "id": "ff6eaa53-4022-4328-b6c4-e1c8c972615c",
   "metadata": {},
   "source": [
    "First, we will deploy our birdclef “platform”. This has all the “accessory” services we need to support our machine learning application."
   ]
  },
  {
   "cell_type": "markdown",
   "id": "a7cef3fc-4ac3-4ef7-a63a-70820780262d",
   "metadata": {},
   "source": [
    "Let’s add the birdclef-platform application now. In the output of the following cell, look for the MinIO secret, which will be generated and then printed in the output:"
   ]
  },
  {
   "cell_type": "code",
   "execution_count": 4,
   "id": "dbc29777-26ab-4c30-8bfa-6f898d207ba6",
   "metadata": {
    "tags": []
   },
   "outputs": [],
   "source": [
    "cd /work/ML-SysOps_Project-main\\ 2/continous_X_pipeline/ansible/"
   ]
  },
  {
   "cell_type": "code",
   "execution_count": 5,
   "id": "68035ffe-929f-4e03-90ed-e80de37c1bed",
   "metadata": {
    "tags": []
   },
   "outputs": [
    {
     "name": "stdout",
     "output_type": "stream",
     "text": [
      "\n",
      "PLAY [Deploy MLflow platform via ArgoCD & Helm with MinIO secret handling] *****\n",
      "\n",
      "TASK [Gathering Facts] *********************************************************\n",
      "ok: [node1]\n",
      "\n",
      "TASK [Get ArgoCD admin password from Kubernetes secret] ************************\n",
      "changed: [node1]\n",
      "\n",
      "TASK [Decode ArgoCD admin password] ********************************************\n",
      "changed: [node1]\n",
      "\n",
      "TASK [Log in to ArgoCD] ********************************************************\n",
      "ok: [node1]\n",
      "\n",
      "TASK [Add repository to ArgoCD] ************************************************\n",
      "fatal: [node1]: FAILED! => changed=true \n",
      "  cmd:\n",
      "  - argocd\n",
      "  - repo\n",
      "  - add\n",
      "  - https://github.com/ho1447/ML-SysOps_Project.git\n",
      "  - --port-forward\n",
      "  - --port-forward-namespace=argocd\n",
      "  delta: '0:00:00.300193'\n",
      "  end: '2025-05-14 10:14:00.629133'\n",
      "  msg: non-zero return code\n",
      "  rc: 20\n",
      "  start: '2025-05-14 10:14:00.328940'\n",
      "  stderr: '{\"level\":\"fatal\",\"msg\":\"rpc error: code = Unknown desc = error testing repository connectivity: Get \\\"https://github.com/ho1447/ML-SysOps_Project.git/info/refs?service=git-upload-pack\\\": dial tcp: lookup github.com on 169.254.25.10:53: server misbehaving\",\"time\":\"2025-05-14T10:14:00Z\"}'\n",
      "  stderr_lines: <omitted>\n",
      "  stdout: ''\n",
      "  stdout_lines: <omitted>\n",
      "\n",
      "PLAY RECAP *********************************************************************\n",
      "node1                      : ok=4    changed=2    unreachable=0    failed=1    skipped=0    rescued=0    ignored=0   \n",
      "\n"
     ]
    },
    {
     "ename": "",
     "evalue": "2",
     "output_type": "error",
     "traceback": []
    }
   ],
   "source": [
    "ansible-playbook -i inventory.yml argocd/argocd_add_platform.yml"
   ]
  },
  {
   "cell_type": "code",
   "execution_count": null,
   "id": "e6a40aca-4ed1-47bc-ab00-eb177adfcba3",
   "metadata": {
    "tags": []
   },
   "outputs": [],
   "source": []
  },
  {
   "cell_type": "markdown",
   "id": "d1d368e3-cb48-4a1f-ae2c-7595a5c077a6",
   "metadata": {},
   "source": [
    "### Analysis of the-argo-cd-platform Code:\n",
    "\n",
    "This playbook performs the following tasks:\n",
    "\n",
    "1. **Create Directory for Mount**: Creates a directory and mounts it to the existing persistent Block Storage (currently commented out as the storage isn't set up yet).\n",
    "2. **Mount the Directory**: Mounts the directory for use (currently disabled).\n",
    "3. **Retrieve ArgoCD Admin Password**: Gets the ArgoCD admin password from the Kubernetes secret.\n",
    "4. **Decode ArgoCD Admin Password**: Decodes the ArgoCD password for login.\n",
    "5. **Login to ArgoCD**: Logs into the ArgoCD UI.\n",
    "6. **Add Repository to ArgoCD**: Syncs the platform for any updates in the Kubernetes manifests.\n",
    "7. **Ensure Namespace Exists**: Verifies the `Modular-Speech-platform` namespace exists or creates it if missing.\n",
    "8. **Check and Generate MinIO Secret**: Checks if the MinIO secret exists, and generates it if this is the first run.\n",
    "9. **Fetch and Decode MinIO Secret**: Fetches and decodes the MinIO secret if already created.\n",
    "10. **Check for ArgoCD Application**: Verifies if an ArgoCD application exists.\n",
    "11. **Create or Update ArgoCD Helm Application**: Creates or updates applications (e.g., MinIO, MLFlow, PostgreSQL) via Helm.\n",
    "12. **Display MinIO Credentials**: Displays MinIO credentials for login.\n",
    "\n",
    "After the first run, any changes to the Helm application through Git will be automatically reflected in ArgoCD.\n"
   ]
  },
  {
   "cell_type": "markdown",
   "id": "9379707d-1e2d-42a4-8c15-e5fd71348a29",
   "metadata": {},
   "source": [
    "Once the platform is deployed, you can access the following services by substituting `A.B.C.D` with your floating IP:\n",
    "\n",
    "* **MinIO Object Store**: [http://A.B.C.D:9001](http://A.B.C.D:9001)\n",
    "* **MLFlow**: [http://A.B.C.D:8000](http://A.B.C.D:8000)\n",
    "* **Label Studio**: [http://A.B.C.D:5000](http://A.B.C.D:5000)\n",
    "* **Prometheus**: [http://A.B.C.D:4000](http://A.B.C.D:4000)\n",
    "* **Grafana**: [http://A.B.C.D:3000](http://A.B.C.D:3000)\n"
   ]
  },
  {
   "cell_type": "markdown",
   "id": "bfbac37b-58be-4fe2-9b19-08a260948156",
   "metadata": {},
   "source": [
    "Next, we will deploy the **Modular Speech application**. Before deploying, we need to build the container images for the different environments. To do this, we’ll run a one-time workflow in **Argo Workflows** to build the initial container images for the following environments:\n",
    "\n",
    "* **Staging**\n",
    "* **Canary**\n",
    "* **Production**\n",
    "\n",
    "This will ensure that each environment has its own respective image, ready for deployment.\n"
   ]
  },
  {
   "cell_type": "code",
   "execution_count": 7,
   "id": "2ef574df-eb39-48c2-b61a-77daee10f294",
   "metadata": {
    "tags": []
   },
   "outputs": [],
   "source": [
    "cd /work/ML-SysOps_Project-main\\ 2/continous_X_pipeline/ansible"
   ]
  },
  {
   "cell_type": "code",
   "execution_count": 8,
   "id": "495677df-faf1-4c4f-b36d-feb545fed1a9",
   "metadata": {
    "tags": []
   },
   "outputs": [
    {
     "name": "stdout",
     "output_type": "stream",
     "text": [
      "\n",
      "PLAY [Run Argo Workflow from GitHub Repo] **************************************\n",
      "\n",
      "TASK [Gathering Facts] *********************************************************\n",
      "ok: [node1]\n",
      "\n",
      "TASK [Clone or update Modular-Speech-iac repo] *********************************\n",
      "changed: [node1]\n",
      "\n",
      "PLAY [Run Argo Workflow from GitHub Repo] **************************************\n",
      "\n",
      "TASK [Gathering Facts] *********************************************************\n",
      "ok: [node1]\n",
      "\n",
      "TASK [Clone or update Modular-Speech-iac repo] *********************************\n",
      "changed: [node1]\n",
      "\n",
      "TASK [Submit Argo Workflow] ****************************************************\n",
      "changed: [node1]\n",
      "\n",
      "TASK [Extract Workflow Name] ***************************************************\n",
      "ok: [node1]\n",
      "\n",
      "TASK [Wait for workflow to complete (success or fail)] *************************\n",
      "changed: [node1]\n",
      "\n",
      "TASK [Get final workflow result] ***********************************************\n",
      "changed: [node1]\n",
      "\n",
      "TASK [Display workflow phase] **************************************************\n",
      "ok: [node1] => \n",
      "  msg: 'Workflow kaniko-pvc-build-8h5nl finished with status: Failed'\n",
      "\n",
      "TASK [Fail if workflow did not succeed] ****************************************\n",
      "fatal: [node1]: FAILED! => changed=false \n",
      "  msg: 'Workflow kaniko-pvc-build-8h5nl failed with status: Failed'\n",
      "\n",
      "PLAY RECAP *********************************************************************\n",
      "node1                      : ok=9    changed=5    unreachable=0    failed=1    skipped=0    rescued=0    ignored=0   \n",
      "\n"
     ]
    },
    {
     "ename": "",
     "evalue": "2",
     "output_type": "error",
     "traceback": []
    }
   ],
   "source": [
    "ansible-playbook -i inventory.yml argocd/workflow_build_init.yml"
   ]
  },
  {
   "cell_type": "markdown",
   "id": "2acc2e2d-1d26-44d9-ba06-a2dfe6b78b1c",
   "metadata": {},
   "source": [
    "Through this workflow : workflow_build_init\n",
    "\n",
    "we are calling the build-initial.yaml file which executes the following tasks : \n",
    "\n",
    "Builds the initial container images for staging, canary, and production using the FastAPI wrapper for the model. "
   ]
  },
  {
   "cell_type": "code",
   "execution_count": 9,
   "id": "a50abd84-3ff3-40fe-a2dd-2cb65bc36f06",
   "metadata": {
    "tags": []
   },
   "outputs": [],
   "source": [
    "cd /work/ML-SysOps_Project-main\\ 2/continous_X_pipeline/ansible\n"
   ]
  },
  {
   "cell_type": "code",
   "execution_count": 11,
   "id": "c0132130-07c3-4d57-8a95-90274b97c6fa",
   "metadata": {
    "tags": []
   },
   "outputs": [
    {
     "name": "stdout",
     "output_type": "stream",
     "text": [
      "\n",
      "PLAY [Deploy Modular-Speech Classification Staging via ArgoCD & Helm] **********\n",
      "\n",
      "TASK [Gathering Facts] *********************************************************\n",
      "ok: [node1]\n",
      "\n",
      "TASK [Get ArgoCD admin password] ***********************************************\n",
      "changed: [node1]\n",
      "\n",
      "TASK [Decode ArgoCD password] **************************************************\n",
      "changed: [node1]\n",
      "\n",
      "TASK [Login to ArgoCD] *********************************************************\n",
      "ok: [node1]\n",
      "\n",
      "TASK [Detect external IP starting with 10.56] **********************************\n",
      "ok: [node1]\n",
      "\n",
      "TASK [Create Modular-Speech-staging namespace if missing] **********************\n",
      "fatal: [node1]: FAILED! => changed=false \n",
      "  cmd:\n",
      "  - kubectl\n",
      "  - create\n",
      "  - namespace\n",
      "  - Modular-Speech-staging\n",
      "  delta: '0:00:00.078087'\n",
      "  end: '2025-05-14 09:01:53.615235'\n",
      "  failed_when_result: true\n",
      "  msg: non-zero return code\n",
      "  rc: 1\n",
      "  start: '2025-05-14 09:01:53.537148'\n",
      "  stderr: 'The Namespace \"Modular-Speech-staging\" is invalid: metadata.name: Invalid value: \"Modular-Speech-staging\": a lowercase RFC 1123 label must consist of lower case alphanumeric characters or ''-'', and must start and end with an alphanumeric character (e.g. ''my-name'',  or ''123-abc'', regex used for validation is ''[a-z0-9]([-a-z0-9]*[a-z0-9])?'')'\n",
      "  stderr_lines: <omitted>\n",
      "  stdout: ''\n",
      "  stdout_lines: <omitted>\n",
      "\n",
      "PLAY RECAP *********************************************************************\n",
      "node1                      : ok=5    changed=2    unreachable=0    failed=1    skipped=0    rescued=0    ignored=0   \n",
      "\n"
     ]
    },
    {
     "ename": "",
     "evalue": "2",
     "output_type": "error",
     "traceback": []
    }
   ],
   "source": [
    "ansible-playbook -i inventory.yml argocd/argocd_add_staging.yml"
   ]
  },
  {
   "cell_type": "markdown",
   "id": "964f6266-6dae-4f4d-bd7e-253ad9899b40",
   "metadata": {},
   "source": [
    "By executing the workflow argocd_add_staging.yml we are primarily creating the birdclef-staging namespace which we can monitor in ArgoCD. And by using this worflow, we are executing staging manifest, where we actually create a container for the staging environment from the above staging image we created. \n",
    "\n",
    "At the end of this workflow, our application should be up and running and available at http://A.B.C.D:8081 (where A.B.C.D is our public IP)\n"
   ]
  },
  {
   "cell_type": "code",
   "execution_count": 28,
   "id": "4cb02d83-0197-4e08-b45a-1f51130bb0ea",
   "metadata": {
    "tags": []
   },
   "outputs": [],
   "source": [
    "cd /work/MLOps/continous_X_pipeline/ansible"
   ]
  },
  {
   "cell_type": "code",
   "execution_count": 29,
   "id": "d6a918f4-1a7d-4f8c-bd79-31f4ac9a4d33",
   "metadata": {
    "tags": []
   },
   "outputs": [
    {
     "name": "stdout",
     "output_type": "stream",
     "text": [
      "\n",
      "PLAY [Deploy Bird Classification Canary via ArgoCD & Helm] *********************\n",
      "\n",
      "TASK [Gathering Facts] *********************************************************\n",
      "ok: [node1]\n",
      "\n",
      "TASK [Get ArgoCD admin password] ***********************************************\n",
      "changed: [node1]\n",
      "\n",
      "TASK [Decode ArgoCD password] **************************************************\n",
      "changed: [node1]\n",
      "\n",
      "TASK [Login to ArgoCD] *********************************************************\n",
      "ok: [node1]\n",
      "\n",
      "TASK [Detect external IP starting with 10.56] **********************************\n",
      "ok: [node1]\n",
      "\n",
      "TASK [Create birdclef-canary namespace if missing] *****************************\n",
      "ok: [node1]\n",
      "\n",
      "TASK [Check if ArgoCD app exists] **********************************************\n",
      "ok: [node1]\n",
      "\n",
      "TASK [Create ArgoCD Helm app if not exists] ************************************\n",
      "skipping: [node1]\n",
      "\n",
      "TASK [Update ArgoCD Helm app if exists] ****************************************\n",
      "changed: [node1]\n",
      "\n",
      "TASK [Display ArgoCD app status] ***********************************************\n",
      "changed: [node1]\n",
      "\n",
      "TASK [Show final status] *******************************************************\n",
      "ok: [node1] => \n",
      "  final_status.stdout: |-\n",
      "    Name:               argocd/birdclef-canary\n",
      "    Project:            default\n",
      "    Server:             https://kubernetes.default.svc\n",
      "    Namespace:\n",
      "    URL:                https://127.0.0.1:40185/applications/birdclef-canary\n",
      "    Source:\n",
      "    - Repo:             https://github.com/exploring-curiosity/MLOps.git\n",
      "      Target:\n",
      "      Path:             continous_X_pipeline/k8s/canary\n",
      "    SyncWindow:         Sync Allowed\n",
      "    Sync Policy:        Automated\n",
      "    Sync Status:        Synced to  (8f5689d)\n",
      "    Health Status:      Healthy\n",
      "  \n",
      "    GROUP  KIND        NAMESPACE        NAME          STATUS  HEALTH   HOOK  MESSAGE\n",
      "           Service     birdclef-canary  birdclef-app  Synced  Healthy        service/birdclef-app unchanged\n",
      "    apps   Deployment  birdclef-canary  birdclef-app  Synced  Healthy        deployment.apps/birdclef-app unchanged\n",
      "\n",
      "PLAY RECAP *********************************************************************\n",
      "node1                      : ok=10   changed=4    unreachable=0    failed=0    skipped=1    rescued=0    ignored=0   \n",
      "\n"
     ]
    }
   ],
   "source": [
    "ansible-playbook -i inventory.yml argocd/argocd_add_canary.yml"
   ]
  },
  {
   "cell_type": "markdown",
   "id": "3e6ac327-d100-4890-8efc-4654b28f2ab6",
   "metadata": {},
   "source": [
    "By executing the workflow argocd_add_canary.yml we are primarily creating the birdclef-canary namespace which we can monitor in ArgoCD. And by using this worflow, we are executing canary manifest, where we actually create a container for the canary environment from the above canary image we created. \n",
    "\n",
    "At the end of this workflow, our application should be up and running and available at http://A.B.C.D:8080 (where A.B.C.D is our public IP)"
   ]
  },
  {
   "cell_type": "code",
   "execution_count": 13,
   "id": "67f95150-fd52-4703-8ba6-5231eeb09436",
   "metadata": {
    "tags": []
   },
   "outputs": [],
   "source": [
    "cd /work/ML-SysOps_Project-main\\ 2/continous_X_pipeline/ansible"
   ]
  },
  {
   "cell_type": "code",
   "execution_count": 14,
   "id": "2a07065e-fecc-4a99-8661-e35a89822dec",
   "metadata": {
    "tags": []
   },
   "outputs": [
    {
     "name": "stdout",
     "output_type": "stream",
     "text": [
      "\n",
      "PLAY [Deploy Modular Speech Production via ArgoCD & Helm] **********************\n",
      "\n",
      "TASK [Gathering Facts] *********************************************************\n",
      "ok: [node1]\n",
      "\n",
      "TASK [Get ArgoCD admin password] ***********************************************\n",
      "changed: [node1]\n",
      "\n",
      "TASK [Decode ArgoCD password] **************************************************\n",
      "changed: [node1]\n",
      "\n",
      "TASK [Login to ArgoCD] *********************************************************\n",
      "ok: [node1]\n",
      "\n",
      "TASK [Detect external IP starting with 10.56] **********************************\n",
      "ok: [node1]\n",
      "\n",
      "TASK [Create Modular-Speech-production namespace if missing] *******************\n",
      "fatal: [node1]: FAILED! => changed=false \n",
      "  cmd:\n",
      "  - kubectl\n",
      "  - create\n",
      "  - namespace\n",
      "  - Modular-Speech-production\n",
      "  delta: '0:00:00.129734'\n",
      "  end: '2025-05-14 09:08:40.582922'\n",
      "  failed_when_result: true\n",
      "  msg: non-zero return code\n",
      "  rc: 1\n",
      "  start: '2025-05-14 09:08:40.453188'\n",
      "  stderr: 'The Namespace \"Modular-Speech-production\" is invalid: metadata.name: Invalid value: \"Modular-Speech-production\": a lowercase RFC 1123 label must consist of lower case alphanumeric characters or ''-'', and must start and end with an alphanumeric character (e.g. ''my-name'',  or ''123-abc'', regex used for validation is ''[a-z0-9]([-a-z0-9]*[a-z0-9])?'')'\n",
      "  stderr_lines: <omitted>\n",
      "  stdout: ''\n",
      "  stdout_lines: <omitted>\n",
      "\n",
      "PLAY RECAP *********************************************************************\n",
      "node1                      : ok=5    changed=2    unreachable=0    failed=1    skipped=0    rescued=0    ignored=0   \n",
      "\n"
     ]
    },
    {
     "ename": "",
     "evalue": "2",
     "output_type": "error",
     "traceback": []
    }
   ],
   "source": [
    "ansible-playbook -i inventory.yml argocd/argocd_add_prod.yml"
   ]
  },
  {
   "cell_type": "markdown",
   "id": "7c1f7ff1-0078-415c-a231-d0a31931bcd7",
   "metadata": {},
   "source": [
    "By executing the workflow argocd_add_prod.yml we are primarily creating the birdclef-production namespace which we can monitor in ArgoCD. And by using this worflow, we are executing production manifest, where we actually create a container for the staging environment from the above production image we created. \n",
    "\n",
    "At the end of this workflow, our application should be up and running and available at http://A.B.C.D (where A.B.C.D is our public IP)"
   ]
  },
  {
   "cell_type": "code",
   "execution_count": 32,
   "id": "71d8c05f-e259-490f-b309-5205a3e61f9d",
   "metadata": {
    "tags": []
   },
   "outputs": [],
   "source": [
    "cd /work/MLOps/continous_X_pipeline/ansible"
   ]
  },
  {
   "cell_type": "markdown",
   "id": "533c595c-4e86-4a61-af89-d483dfd89695",
   "metadata": {},
   "source": [
    "Now, we will manage our application lifecycle with Argo Worfklows. We will understand these workflow more in depth in the next sections. "
   ]
  },
  {
   "cell_type": "code",
   "execution_count": 33,
   "id": "1c61e970-6d5b-4be7-a6c5-c567ea0f05fc",
   "metadata": {
    "tags": []
   },
   "outputs": [
    {
     "name": "stdout",
     "output_type": "stream",
     "text": [
      "\n",
      "PLAY [Clone repo and apply specific Argo WorkflowTemplates] ********************\n",
      "\n",
      "TASK [Gathering Facts] *********************************************************\n",
      "ok: [node1]\n",
      "\n",
      "TASK [Clone or update birdclef-iac repo] ***************************************\n",
      "ok: [node1]\n",
      "\n",
      "TASK [Apply selected WorkflowTemplates to Argo namespace] **********************\n",
      "changed: [node1] => (item=build-container-image.yaml)\n",
      "changed: [node1] => (item=deploy-container-image.yaml)\n",
      "changed: [node1] => (item=promote-model.yaml)\n",
      "changed: [node1] => (item=train-model.yaml)\n",
      "\n",
      "TASK [Verify applied WorkflowTemplates] ****************************************\n",
      "changed: [node1]\n",
      "\n",
      "TASK [Show WorkflowTemplates] **************************************************\n",
      "ok: [node1] => \n",
      "  wft_list.stdout: |-\n",
      "    NAME                     AGE\n",
      "    build-container-image    3h9m\n",
      "    deploy-container-image   3h9m\n",
      "    promote-model            3h9m\n",
      "    train-model              3h9m\n",
      "\n",
      "PLAY RECAP *********************************************************************\n",
      "node1                      : ok=5    changed=2    unreachable=0    failed=0    skipped=0    rescued=0    ignored=0   \n",
      "\n"
     ]
    }
   ],
   "source": [
    "ansible-playbook -i inventory.yml argocd/workflow_templates_apply.yml"
   ]
  },
  {
   "cell_type": "code",
   "execution_count": null,
   "id": "03ce98ca-08e5-4211-a8a4-b15ef5935126",
   "metadata": {},
   "outputs": [],
   "source": []
  }
 ],
 "metadata": {
  "kernelspec": {
   "display_name": "Python 3 (ipykernel)",
   "language": "python",
   "name": "python3"
  },
  "language_info": {
   "codemirror_mode": {
    "name": "ipython",
    "version": 3
   },
   "file_extension": ".py",
   "mimetype": "text/x-python",
   "name": "python",
   "nbconvert_exporter": "python",
   "pygments_lexer": "ipython3",
   "version": "3.12.2"
  }
 },
 "nbformat": 4,
 "nbformat_minor": 5
}
