{
 "cells": [
  {
   "cell_type": "markdown",
   "id": "15c09364-46c5-464d-92e9-0e67457a3014",
   "metadata": {},
   "source": [
    "This pipeline glues together the **Model Training**, **Evaluation**, **Serving**, and **Data Operations** components. The ultimate goal is rapid development-to-deployment cycles with iterative improvements—this is the *Ops* in MLOps.\n",
    "\n",
    "We'll provision resources and install tooling through infrastructure-as-code:\n",
    "\n",
    "* **Terraform**: Manages our cloud infra declaratively.\n",
    "* **Ansible**: Installs Kubernetes and Argo ecosystem tools.\n",
    "* **Argo CD**: Enables GitOps-based continuous delivery.\n",
    "* **Argo Workflows**: Powers the container-native orchestration of our ML pipelines.\n"
   ]
  },
  {
   "cell_type": "markdown",
   "id": "10ddaa52-7787-472b-a2d2-88c31be45c6c",
   "metadata": {},
   "source": [
    "Start by cloning the infrastructure repository"
   ]
  },
  {
   "cell_type": "code",
   "execution_count": 2,
   "id": "dd4c199b-34f1-4734-af98-480fca589794",
   "metadata": {
    "tags": []
   },
   "outputs": [
    {
     "name": "stdout",
     "output_type": "stream",
     "text": [
      "Cloning into 'ML-SysOps_Project'...\n",
      "remote: Enumerating objects: 269, done.\u001b[K\n",
      "remote: Counting objects: 100% (79/79), done.\u001b[K\n",
      "remote: Compressing objects: 100% (65/65), done.\u001b[K\n",
      "remote: Total 269 (delta 37), reused 43 (delta 12), pack-reused 190 (from 1)\u001b[K\n",
      "Receiving objects: 100% (269/269), 2.84 MiB | 3.49 MiB/s, done.\n",
      "Resolving deltas: 100% (111/111), done.\n"
     ]
    }
   ],
   "source": [
    "git clone --recurse-submodules https://github.com/ho1447/ML-SysOps_Project.git"
   ]
  },
  {
   "cell_type": "markdown",
   "id": "dd4284fa-f2f4-4e02-889f-a0c112d28366",
   "metadata": {},
   "source": [
    "The code structure in continous_X_pipeline has has the following structure :\n",
    "\n",
    "    ├── tf\n",
    "    │   └── kvm\n",
    "    ├── ansible\n",
    "    │   ├── general\n",
    "    │   ├── pre_k8s\n",
    "    │   ├── k8s\n",
    "    │   ├── post_k8s\n",
    "    │   └── argocd\n",
    "    ├── k8s\n",
    "    │   ├── platform\n",
    "    │   ├── staging\n",
    "    │   ├── canary\n",
    "    │   └── production\n",
    "    └── workflows"
   ]
  },
  {
   "cell_type": "markdown",
   "id": "acd6bfc7-fd6f-4ba1-a3bb-a92fd1d67ca5",
   "metadata": {},
   "source": [
    "# 2. Setup Environment"
   ]
  },
  {
   "cell_type": "markdown",
   "id": "785490fa-7154-4e6c-99e0-d7b00a0d8562",
   "metadata": {},
   "source": [
    "### Install and configure Terraform"
   ]
  },
  {
   "cell_type": "code",
   "execution_count": null,
   "id": "1561c11e-6bbc-4010-9891-7310f7cf3c1f",
   "metadata": {},
   "outputs": [],
   "source": []
  },
  {
   "cell_type": "markdown",
   "id": "af532f1d-7ed5-430f-946f-fe8ab13be0df",
   "metadata": {},
   "source": [
    "## Download a Terraform client"
   ]
  },
  {
   "cell_type": "code",
   "execution_count": 3,
   "id": "400f4b35-383b-4332-96a3-d06bdfba74c8",
   "metadata": {
    "tags": []
   },
   "outputs": [
    {
     "name": "stdout",
     "output_type": "stream",
     "text": [
      "--2025-05-13 23:47:10--  https://releases.hashicorp.com/terraform/1.10.5/terraform_1.10.5_linux_amd64.zip\n",
      "Resolving releases.hashicorp.com (releases.hashicorp.com)... 18.238.171.62, 18.238.171.95, 18.238.171.54, ...\n",
      "Connecting to releases.hashicorp.com (releases.hashicorp.com)|18.238.171.62|:443... connected.\n",
      "HTTP request sent, awaiting response... 200 OK\n",
      "Length: 27714924 (26M) [application/zip]\n",
      "Saving to: ‘terraform_1.10.5_linux_amd64.zip’\n",
      "\n",
      "terraform_1.10.5_li 100%[===================>]  26.43M   130MB/s    in 0.2s    \n",
      "\n",
      "2025-05-13 23:47:10 (130 MB/s) - ‘terraform_1.10.5_linux_amd64.zip’ saved [27714924/27714924]\n",
      "\n"
     ]
    }
   ],
   "source": [
    "mkdir -p /work/.local/bin\n",
    "wget https://releases.hashicorp.com/terraform/1.10.5/terraform_1.10.5_linux_amd64.zip\n",
    "unzip -o -q terraform_1.10.5_linux_amd64.zip\n",
    "mv terraform /work/.local/bin\n",
    "rm terraform_1.10.5_linux_amd64.zip"
   ]
  },
  {
   "cell_type": "markdown",
   "id": "b9d8f3f1-97bf-450e-8b48-d13371e23c42",
   "metadata": {},
   "source": [
    "The Terraform CLI has been successfully installed to the following directory: `/work/.local/bin`. In order to execute Terraform commands directly from the terminal, we need to append this directory to our PATH environment variable. The PATH variable defines the set of directories the system searches to locate executable files."
   ]
  },
  {
   "cell_type": "code",
   "execution_count": 4,
   "id": "952de582-11cf-4c52-88b0-86a1a633ebc9",
   "metadata": {
    "tags": []
   },
   "outputs": [],
   "source": [
    "export PATH=/work/.local/bin:$PATH"
   ]
  },
  {
   "cell_type": "markdown",
   "id": "849c34a9-b15d-44b6-b971-f034e2762059",
   "metadata": {},
   "source": [
    "To verify that Terraform is properly installed and accessible, we can run the terraform command without any subcommands. If configured correctly, this should display the Terraform usage/help information."
   ]
  },
  {
   "cell_type": "code",
   "execution_count": 5,
   "id": "0af56096-c353-4586-a4e1-c812204940ce",
   "metadata": {
    "tags": []
   },
   "outputs": [
    {
     "name": "stdout",
     "output_type": "stream",
     "text": [
      "Usage: terraform [global options] <subcommand> [args]\n",
      "\n",
      "The available commands for execution are listed below.\n",
      "The primary workflow commands are given first, followed by\n",
      "less common or more advanced commands.\n",
      "\n",
      "Main commands:\n",
      "  init          Prepare your working directory for other commands\n",
      "  validate      Check whether the configuration is valid\n",
      "  plan          Show changes required by the current configuration\n",
      "  apply         Create or update infrastructure\n",
      "  destroy       Destroy previously-created infrastructure\n",
      "\n",
      "All other commands:\n",
      "  console       Try Terraform expressions at an interactive command prompt\n",
      "  fmt           Reformat your configuration in the standard style\n",
      "  force-unlock  Release a stuck lock on the current workspace\n",
      "  get           Install or upgrade remote Terraform modules\n",
      "  graph         Generate a Graphviz graph of the steps in an operation\n",
      "  import        Associate existing infrastructure with a Terraform resource\n",
      "  login         Obtain and save credentials for a remote host\n",
      "  logout        Remove locally-stored credentials for a remote host\n",
      "  metadata      Metadata related commands\n",
      "  modules       Show all declared modules in a working directory\n",
      "  output        Show output values from your root module\n",
      "  providers     Show the providers required for this configuration\n",
      "  refresh       Update the state to match remote systems\n",
      "  show          Show the current state or a saved plan\n",
      "  state         Advanced state management\n",
      "  taint         Mark a resource instance as not fully functional\n",
      "  test          Execute integration tests for Terraform modules\n",
      "  untaint       Remove the 'tainted' state from a resource instance\n",
      "  version       Show the current Terraform version\n",
      "  workspace     Workspace management\n",
      "\n",
      "Global options (use these before the subcommand, if any):\n",
      "  -chdir=DIR    Switch to a different working directory before executing the\n",
      "                given subcommand.\n",
      "  -help         Show this help output, or the help for a specified subcommand.\n",
      "  -version      An alias for the \"version\" subcommand.\n"
     ]
    },
    {
     "ename": "",
     "evalue": "127",
     "output_type": "error",
     "traceback": []
    }
   ],
   "source": [
    "terraform"
   ]
  },
  {
   "cell_type": "markdown",
   "id": "15d4e642-a0ca-4828-b2b4-d7716e70824d",
   "metadata": {},
   "source": [
    "### Configure the PATH"
   ]
  },
  {
   "cell_type": "markdown",
   "id": "afce5fbb-4b5f-44bb-8473-713cbde40f7e",
   "metadata": {},
   "source": [
    "It’s important to note that both the Terraform and Ansible executables have been installed to a non-standard path (/work/.local/bin), rather than a system-wide location. As such, to run commands like terraform or ansible-playbook from any location in the terminal, we must ensure this directory is included in the PATH."
   ]
  },
  {
   "cell_type": "code",
   "execution_count": 6,
   "id": "16702ea7-e7a5-4ce8-adf0-16cbaef08de5",
   "metadata": {
    "tags": []
   },
   "outputs": [],
   "source": [
    "# runs in Chameleon Jupyter environment\n",
    "export PATH=/work/.local/bin:$PATH\n",
    "export PYTHONUSERBASE=/work/.local"
   ]
  },
  {
   "cell_type": "markdown",
   "id": "4f2142d8-8590-45d6-9d06-65c256a6556c",
   "metadata": {},
   "source": [
    "## Kubespray\n",
    "\n",
    "For Kubernetes installation, we will utilize Kubespray — a robust collection of Ansible playbooks purpose-built for deploying production-ready Kubernetes clusters. Before proceeding, we'll confirm that all required dependencies for Kubespray are present and properly configured:"
   ]
  },
  {
   "cell_type": "code",
   "execution_count": 9,
   "id": "c4405d44-1d89-4e80-9b04-6f936cfca1eb",
   "metadata": {
    "tags": []
   },
   "outputs": [
    {
     "name": "stdout",
     "output_type": "stream",
     "text": [
      "Requirement already satisfied: ansible==9.8.0 in /work/.local/lib/python3.10/site-packages (from -r /home/jgr7704_nyu_edu/work/ML-SysOps_Project-main 2/continous_X_pipeline/ansible/k8s/kubespray/requirements.txt (line 1)) (9.8.0)\n",
      "Requirement already satisfied: jmespath==1.0.1 in /opt/conda/lib/python3.10/site-packages (from -r /home/jgr7704_nyu_edu/work/ML-SysOps_Project-main 2/continous_X_pipeline/ansible/k8s/kubespray/requirements.txt (line 3)) (1.0.1)\n",
      "Requirement already satisfied: jsonschema==4.23.0 in /work/.local/lib/python3.10/site-packages (from -r /home/jgr7704_nyu_edu/work/ML-SysOps_Project-main 2/continous_X_pipeline/ansible/k8s/kubespray/requirements.txt (line 5)) (4.23.0)\n",
      "Requirement already satisfied: netaddr==1.3.0 in /opt/conda/lib/python3.10/site-packages (from -r /home/jgr7704_nyu_edu/work/ML-SysOps_Project-main 2/continous_X_pipeline/ansible/k8s/kubespray/requirements.txt (line 7)) (1.3.0)\n",
      "Requirement already satisfied: ansible-core~=2.16.9 in /work/.local/lib/python3.10/site-packages (from ansible==9.8.0->-r /home/jgr7704_nyu_edu/work/ML-SysOps_Project-main 2/continous_X_pipeline/ansible/k8s/kubespray/requirements.txt (line 1)) (2.16.9)\n",
      "Requirement already satisfied: attrs>=22.2.0 in /opt/conda/lib/python3.10/site-packages (from jsonschema==4.23.0->-r /home/jgr7704_nyu_edu/work/ML-SysOps_Project-main 2/continous_X_pipeline/ansible/k8s/kubespray/requirements.txt (line 5)) (22.2.0)\n",
      "Requirement already satisfied: jsonschema-specifications>=2023.03.6 in /work/.local/lib/python3.10/site-packages (from jsonschema==4.23.0->-r /home/jgr7704_nyu_edu/work/ML-SysOps_Project-main 2/continous_X_pipeline/ansible/k8s/kubespray/requirements.txt (line 5)) (2025.4.1)\n",
      "Requirement already satisfied: referencing>=0.28.4 in /work/.local/lib/python3.10/site-packages (from jsonschema==4.23.0->-r /home/jgr7704_nyu_edu/work/ML-SysOps_Project-main 2/continous_X_pipeline/ansible/k8s/kubespray/requirements.txt (line 5)) (0.36.2)\n",
      "Requirement already satisfied: rpds-py>=0.7.1 in /work/.local/lib/python3.10/site-packages (from jsonschema==4.23.0->-r /home/jgr7704_nyu_edu/work/ML-SysOps_Project-main 2/continous_X_pipeline/ansible/k8s/kubespray/requirements.txt (line 5)) (0.24.0)\n",
      "Requirement already satisfied: packaging in /opt/conda/lib/python3.10/site-packages (from ansible-core~=2.16.9->ansible==9.8.0->-r /home/jgr7704_nyu_edu/work/ML-SysOps_Project-main 2/continous_X_pipeline/ansible/k8s/kubespray/requirements.txt (line 1)) (23.0)\n",
      "Requirement already satisfied: resolvelib<1.1.0,>=0.5.3 in /work/.local/lib/python3.10/site-packages (from ansible-core~=2.16.9->ansible==9.8.0->-r /home/jgr7704_nyu_edu/work/ML-SysOps_Project-main 2/continous_X_pipeline/ansible/k8s/kubespray/requirements.txt (line 1)) (1.0.1)\n",
      "Requirement already satisfied: cryptography in /opt/conda/lib/python3.10/site-packages (from ansible-core~=2.16.9->ansible==9.8.0->-r /home/jgr7704_nyu_edu/work/ML-SysOps_Project-main 2/continous_X_pipeline/ansible/k8s/kubespray/requirements.txt (line 1)) (39.0.2)\n",
      "Requirement already satisfied: PyYAML>=5.1 in /opt/conda/lib/python3.10/site-packages (from ansible-core~=2.16.9->ansible==9.8.0->-r /home/jgr7704_nyu_edu/work/ML-SysOps_Project-main 2/continous_X_pipeline/ansible/k8s/kubespray/requirements.txt (line 1)) (5.3.1)\n",
      "Requirement already satisfied: jinja2>=3.0.0 in /opt/conda/lib/python3.10/site-packages (from ansible-core~=2.16.9->ansible==9.8.0->-r /home/jgr7704_nyu_edu/work/ML-SysOps_Project-main 2/continous_X_pipeline/ansible/k8s/kubespray/requirements.txt (line 1)) (3.1.2)\n",
      "Requirement already satisfied: typing-extensions>=4.4.0 in /opt/conda/lib/python3.10/site-packages (from referencing>=0.28.4->jsonschema==4.23.0->-r /home/jgr7704_nyu_edu/work/ML-SysOps_Project-main 2/continous_X_pipeline/ansible/k8s/kubespray/requirements.txt (line 5)) (4.12.2)\n",
      "Requirement already satisfied: MarkupSafe>=2.0 in /opt/conda/lib/python3.10/site-packages (from jinja2>=3.0.0->ansible-core~=2.16.9->ansible==9.8.0->-r /home/jgr7704_nyu_edu/work/ML-SysOps_Project-main 2/continous_X_pipeline/ansible/k8s/kubespray/requirements.txt (line 1)) (2.1.2)\n",
      "Requirement already satisfied: cffi>=1.12 in /opt/conda/lib/python3.10/site-packages (from cryptography->ansible-core~=2.16.9->ansible==9.8.0->-r /home/jgr7704_nyu_edu/work/ML-SysOps_Project-main 2/continous_X_pipeline/ansible/k8s/kubespray/requirements.txt (line 1)) (1.15.1)\n",
      "Requirement already satisfied: pycparser in /opt/conda/lib/python3.10/site-packages (from cffi>=1.12->cryptography->ansible-core~=2.16.9->ansible==9.8.0->-r /home/jgr7704_nyu_edu/work/ML-SysOps_Project-main 2/continous_X_pipeline/ansible/k8s/kubespray/requirements.txt (line 1)) (2.21)\n"
     ]
    }
   ],
   "source": [
    "PYTHONUSERBASE=/work/.local pip install --user -r /home/jgr7704_nyu_edu/work/ML-SysOps_Project-main\\ 2/continous_X_pipeline/ansible/k8s/kubespray/requirements.txt"
   ]
  },
  {
   "cell_type": "markdown",
   "id": "1a24cdd3-5420-4e92-af75-4095d3549f38",
   "metadata": {},
   "source": [
    "To authenticate with the OpenStack environment, we’ll retrieve credentials via the Horizon dashboard:\n",
    "Navigate to the Chameleon Cloud website.\n",
    "\n",
    "- Select Experiment > KVM@TACC from the main menu.\n",
    "- Log in if prompted.\n",
    "- At the top left, ensure the appropriate project is selected in the project dropdown (e.g., “CHI-XXXXXX”).\n",
    "  \n",
    "From the left-hand sidebar:\n",
    "\n",
    "- Expand the Identity section and click on Application Credentials.\n",
    "- Click Create Application Credential.\n",
    "- Provide the name mlops-lab.\n",
    "- Set an appropriate Expiration Date.\n",
    "- Click Create Application Credential.\n",
    "- Download the resulting clouds.yaml file."
   ]
  },
  {
   "cell_type": "markdown",
   "id": "f52f4643-3526-4fa3-8897-bb34e09ab8a1",
   "metadata": {},
   "source": [
    "Finally, ensure the clouds.yaml file is placed in the correct location. Terraform will automatically look for this file in either of the following locations:\n",
    "~/.config/openstack/\n",
    "The current working directory where Terraform is executed\n",
    "For simplicity and consistency, we will move the clouds.yaml file to the directory from which we intend to run our Terraform commands."
   ]
  },
  {
   "cell_type": "code",
   "execution_count": 10,
   "id": "6e38c0ff-7ad8-4bdb-a6e0-e2ce12419d65",
   "metadata": {
    "tags": []
   },
   "outputs": [],
   "source": [
    "cp clouds.yaml /home/jgr7704_nyu_edu/work/ML-SysOps_Project-main\\ 2/continous_X_pipeline/tf/kvm/clouds.yaml"
   ]
  },
  {
   "cell_type": "code",
   "execution_count": null,
   "id": "08f85c2f-43f1-4145-9651-8f2e033dfba6",
   "metadata": {},
   "outputs": [],
   "source": []
  }
 ],
 "metadata": {
  "kernelspec": {
   "display_name": "Python 3 (ipykernel)",
   "language": "python",
   "name": "python3"
  },
  "language_info": {
   "codemirror_mode": {
    "name": "ipython",
    "version": 3
   },
   "file_extension": ".py",
   "mimetype": "text/x-python",
   "name": "python",
   "nbconvert_exporter": "python",
   "pygments_lexer": "ipython3",
   "version": "3.12.2"
  }
 },
 "nbformat": 4,
 "nbformat_minor": 5
}
