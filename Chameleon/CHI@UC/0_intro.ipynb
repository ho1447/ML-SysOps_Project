{
 "cells": [
  {
   "cell_type": "markdown",
   "id": "4aeb853d",
   "metadata": {},
   "source": [
    "## Reserve a server\n",
    "'gpu_a100_pcie', 'compute_gigaio', or 'gpu_v100' on CHI@UC\n",
    "\n",
    "## Bring up a GPU server"
   ]
  },
  {
   "cell_type": "code",
   "execution_count": null,
   "id": "9267bf33",
   "metadata": {},
   "outputs": [],
   "source": [
    "from chi import server, context, lease\n",
    "import os\n",
    "\n",
    "context.version = \"1.0\" \n",
    "context.choose_project()\n",
    "context.choose_site(default=\"CHI@UC\")"
   ]
  },
  {
   "cell_type": "code",
   "execution_count": null,
   "id": "5b2c0216",
   "metadata": {},
   "outputs": [],
   "source": [
    "l = lease.get_lease(f\"llm_netID\")\n",
    "l.show()"
   ]
  },
  {
   "cell_type": "markdown",
   "id": "fe858fc3",
   "metadata": {},
   "source": [
    "Bring up a server with the CC-Ubuntu24.04-CUDA disk image. Might take around 10 minutes"
   ]
  },
  {
   "cell_type": "code",
   "execution_count": null,
   "id": "506a8513",
   "metadata": {},
   "outputs": [],
   "source": [
    "username = os.getenv('USER') # all exp resources will have this prefix\n",
    "s = server.Server(\n",
    "    f\"node-llm-{username}\", \n",
    "    reservation_id=l.node_reservations[0][\"id\"],\n",
    "    image_name=\"CC-Ubuntu24.04-CUDA\"\n",
    ")\n",
    "s.submit(idempotent=True)"
   ]
  },
  {
   "cell_type": "markdown",
   "id": "8d54737f",
   "metadata": {},
   "source": [
    "Then, we’ll associate a floating IP with the instance, so that we can access it over SSH."
   ]
  },
  {
   "cell_type": "code",
   "execution_count": null,
   "id": "de41b8d0",
   "metadata": {},
   "outputs": [],
   "source": [
    "s.associate_floating_ip()"
   ]
  },
  {
   "cell_type": "code",
   "execution_count": null,
   "id": "315c91b9",
   "metadata": {},
   "outputs": [],
   "source": [
    "s.refresh()\n",
    "s.check_connectivity()"
   ]
  },
  {
   "cell_type": "code",
   "execution_count": null,
   "id": "1e11d791",
   "metadata": {},
   "outputs": [],
   "source": [
    "s.refresh()\n",
    "s.show(type=\"widget\")"
   ]
  },
  {
   "cell_type": "markdown",
   "id": "8695628b",
   "metadata": {},
   "source": [
    "## Retrieve code and notebooks on the instance\n",
    "clone from the group github"
   ]
  },
  {
   "cell_type": "code",
   "execution_count": null,
   "id": "7fb17982",
   "metadata": {},
   "outputs": [],
   "source": [
    "s.execute(\"git clone https://github.com/ho1447/ML-SysOps_Project.git\")"
   ]
  },
  {
   "cell_type": "markdown",
   "id": "9b2ed041",
   "metadata": {},
   "source": [
    "## Set up Docker with NVIDIA container toolkit"
   ]
  },
  {
   "cell_type": "code",
   "execution_count": null,
   "id": "a0e8b68e",
   "metadata": {},
   "outputs": [],
   "source": [
    "s.execute(\"curl -sSL https://get.docker.com/ | sudo sh\")\n",
    "s.execute(\"sudo groupadd -f docker; sudo usermod -aG docker $USER\")\n",
    "s.execute(\"docker run hello-world\")"
   ]
  },
  {
   "cell_type": "code",
   "execution_count": null,
   "id": "806d8fa0",
   "metadata": {},
   "outputs": [],
   "source": [
    "# get NVIDIA container toolkit \n",
    "s.execute(\"curl -fsSL https://nvidia.github.io/libnvidia-container/gpgkey | sudo gpg --dearmor -o /usr/share/keyrings/nvidia-container-toolkit-keyring.gpg \\\n",
    "  && curl -s -L https://nvidia.github.io/libnvidia-container/stable/deb/nvidia-container-toolkit.list | \\\n",
    "    sed 's#deb https://#deb [signed-by=/usr/share/keyrings/nvidia-container-toolkit-keyring.gpg] https://#g' | \\\n",
    "    sudo tee /etc/apt/sources.list.d/nvidia-container-toolkit.list\")\n",
    "s.execute(\"sudo apt update\")\n",
    "s.execute(\"sudo apt-get install -y nvidia-container-toolkit\")\n",
    "s.execute(\"sudo nvidia-ctk runtime configure --runtime=docker\")\n",
    "s.execute(\"sudo systemctl restart docker\")"
   ]
  },
  {
   "cell_type": "code",
   "execution_count": null,
   "id": "4578a476",
   "metadata": {},
   "outputs": [],
   "source": [
    "s.execute(\"docker run --rm --gpus all ubuntu nvidia-smi\")"
   ]
  }
 ],
 "metadata": {
  "language_info": {
   "name": "python"
  }
 },
 "nbformat": 4,
 "nbformat_minor": 5
}
