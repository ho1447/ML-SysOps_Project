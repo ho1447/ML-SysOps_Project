{
 "cells": [
  {
   "cell_type": "markdown",
   "id": "ac0bdfc6-4ee3-4153-8668-703820273ec2",
   "metadata": {},
   "source": [
    "## Download pretrained model\n"
   ]
  },
  {
   "cell_type": "code",
   "execution_count": null,
   "id": "3ba99226-cf72-4781-adc7-76939b66bae2",
   "metadata": {
    "tags": []
   },
   "outputs": [],
   "source": [
    "# Download model weights\n",
    "s.execute(\"\"\"\n",
    "cd ML-SysOps_Project\n",
    "bash models/download_model.sh\n",
    "\"\"\")"
   ]
  },
  {
   "cell_type": "markdown",
   "id": "bb8aacda-8772-4728-b012-bb9c2f4a71f3",
   "metadata": {},
   "source": [
    "You will see two model: wav2vec2-base and wav2vec2-command-classifier downloaded from huggingface to /models\n",
    "Inside /models/wav2vec2-command-classifier/ will have the pretrained .onnx file that contains both the base and head, as a ready-to-go for fastapi\n",
    "\n",
    "move the .onnx model to fastapi-pt path\n",
    "``` bash\n",
    "# run on node-mltrain\n",
    "mv /models/wav2vec2-command-classifier/wav2vec2_command_classifier.onnx /fastapi_pt/\n",
    "\n",
    "```"
   ]
  },
  {
   "cell_type": "code",
   "execution_count": null,
   "id": "5d171051-b9fd-4b10-841c-3cf11237be9f",
   "metadata": {},
   "outputs": [],
   "source": []
  }
 ],
 "metadata": {
  "kernelspec": {
   "display_name": "Python 3 (ipykernel)",
   "language": "python",
   "name": "python3"
  },
  "language_info": {
   "codemirror_mode": {
    "name": "ipython",
    "version": 3
   },
   "file_extension": ".py",
   "mimetype": "text/x-python",
   "name": "python",
   "nbconvert_exporter": "python",
   "pygments_lexer": "ipython3",
   "version": "3.10.9"
  }
 },
 "nbformat": 4,
 "nbformat_minor": 5
}
