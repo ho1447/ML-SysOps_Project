{
 "cells": [
  {
   "cell_type": "markdown",
   "id": "329589f3-51ac-4c4f-81cb-1f6e9de4cd90",
   "metadata": {},
   "source": [
    "## Model and Application Lifecycle - Part 2\n",
    "\n",
    "After building a container image, the model/application lifecycle continues as the new version is promoted through different environments:\n",
    "\n",
    "* **Staging**: The container image is deployed in a staging environment that mirrors production. Here, we perform integration and load tests to assess service functionality and inference performance without affecting live users.\n",
    "* **Canary**: From staging, the service is promoted to a canary environment, where a small fraction of live users test the new version. We monitor for any issues in service performance or infrastructure.\n",
    "* **Production**: After successful evaluation, the model is deployed to the production environment, serving the majority of users. Continuous monitoring ensures that the system maintains optimal performance.\n"
   ]
  },
  {
   "cell_type": "markdown",
   "id": "5ac88cb1-0375-4c98-83f9-28c70a4d26ca",
   "metadata": {},
   "source": [
    "## Promoting a Model\n",
    "\n",
    "After testing the model in staging, it’s time to promote it to the **canary** environment and eventually to **production**. Here's how you can do this:\n",
    "\n",
    "1. Go to **Workflow Templates** > **promote-model** > **Submit**.\n",
    "2. In the source environment, select \"staging\" and enter \"canary\" in the target environment.\n",
    "3. Choose the model version from **staging** that you want to promote (this can be obtained from **MLFlow**).\n",
    "4. Hit **Submit**.\n",
    "\n",
    "This will trigger the **build-container-image.yaml** workflow, which:\n",
    "\n",
    "* Downloads the model wrapper code from **Git**,\n",
    "* Retrieves the **staging model** from **MLFlow**,\n",
    "* Bundles both together and makes it available in the **canary** environment.\n",
    "\n",
    "Afterward, you can access the latest model in the canary environment at:\n",
    "\n",
    "```\n",
    "http://A.B.C.D:8080\n",
    "```\n",
    "\n",
    "You can repeat the same process to promote the model from **canary** to **production**.\n"
   ]
  },
  {
   "cell_type": "code",
   "execution_count": null,
   "id": "93ed6a56-814b-40a7-a90f-9c0bc53b9bbf",
   "metadata": {},
   "outputs": [],
   "source": []
  }
 ],
 "metadata": {
  "kernelspec": {
   "display_name": "Python 3 (ipykernel)",
   "language": "python",
   "name": "python3"
  },
  "language_info": {
   "codemirror_mode": {
    "name": "ipython",
    "version": 3
   },
   "file_extension": ".py",
   "mimetype": "text/x-python",
   "name": "python",
   "nbconvert_exporter": "python",
   "pygments_lexer": "ipython3",
   "version": "3.12.2"
  }
 },
 "nbformat": 4,
 "nbformat_minor": 5
}
