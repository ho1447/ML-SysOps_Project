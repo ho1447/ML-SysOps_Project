{
 "cells": [
  {
   "cell_type": "markdown",
   "id": "1e3477e3-4142-4b21-acd4-50ec4e55af38",
   "metadata": {},
   "source": [
    "# 3. Infrastructure Provisioning with Terraform\n",
    "\n",
    "With the prerequisite configurations in place, we will now proceed to provision our virtualized infrastructure using Terraform's Infrastructure as Code (IaC) approach. The configuration will deploy three VM instances along with their requisite networking components in the OpenStack environment.\""
   ]
  },
  {
   "cell_type": "markdown",
   "id": "28a928de-2ffd-4841-b40c-b987d63b23a7",
   "metadata": {},
   "source": [
    "### Environment Setup"
   ]
  },
  {
   "cell_type": "markdown",
   "id": "070d155d-da7a-41aa-b359-60437332ab95",
   "metadata": {},
   "source": [
    "Navigate to the Terraform configuration directory for the KVM-based deployment:"
   ]
  },
  {
   "cell_type": "code",
   "execution_count": 1,
   "id": "78f31bd4-f56a-4dd1-a4e8-c7bd3fa50676",
   "metadata": {
    "tags": []
   },
   "outputs": [],
   "source": [
    "cd /home/jgr7704_nyu_edu/work/ML-SysOps_Project-main\\ 2/continous_X_pipeline/tf/kvm/"
   ]
  },
  {
   "cell_type": "code",
   "execution_count": 2,
   "id": "33bf16e7-af88-4f1e-9c98-0170a3b7d2cf",
   "metadata": {
    "tags": []
   },
   "outputs": [],
   "source": [
    "export PATH=/work/.local/bin:$PATH"
   ]
  },
  {
   "cell_type": "markdown",
   "id": "de05c3c9-06ce-4fba-b860-43b878dbbb9f",
   "metadata": {},
   "source": [
    "Unset any OpenStack-related environment variables from the Chameleon Jupyter environment to prevent unintended configuration overrides that would interfere with Terraform's execution parameters:"
   ]
  },
  {
   "cell_type": "code",
   "execution_count": 3,
   "id": "d9c3063a-679b-4237-9902-00d6d0bc12e9",
   "metadata": {
    "tags": []
   },
   "outputs": [],
   "source": [
    "unset $(set | grep -o \"^OS_[A-Za-z0-9_]*\")"
   ]
  },
  {
   "cell_type": "code",
   "execution_count": 4,
   "id": "701a4d4c-14df-49b3-a3bd-337bac292778",
   "metadata": {
    "tags": []
   },
   "outputs": [
    {
     "name": "stdout",
     "output_type": "stream",
     "text": [
      "clouds:\n",
      "  openstack:\n",
      "    auth:\n",
      "      auth_url: https://kvm.tacc.chameleoncloud.org:5000\n",
      "      application_credential_id: \"c71e81c8cc784cbf84800747af918b1a\"\n",
      "      application_credential_secret: \"twAavQigIBZH--wkOLc1L3Y5iGhQgCMVkxLwsQeFa-7KUn50FBLh49PCZZE0la9m5u9wigCQV1UQ25p0Dbh7-g\"\n",
      "    region_name: \"KVM@TACC\"\n",
      "    interface: \"public\"\n",
      "    identity_api_version: 3\n",
      "    auth_type: \"v3applicationcredential\"\n"
     ]
    }
   ],
   "source": [
    "cat  clouds.yaml"
   ]
  },
  {
   "cell_type": "markdown",
   "id": "d33cb732-3cfa-4388-82ef-40e386a6a3d8",
   "metadata": {},
   "source": [
    "### Terraform Configuration Architecture"
   ]
  },
  {
   "cell_type": "markdown",
   "id": "6d6ef4a7-71f6-437f-95dc-a1105ff6e28e",
   "metadata": {},
   "source": [
    "data.tf: Defines data sources that retrieve existing infrastructure metadata from OpenStack for resources outside of Terraform's management scope.\n",
    "\n",
    " main.tf: Contains the primary resource allocation declarations. The configuration attaches pre-allocated block storage to node1, which serves as the Kubernetes control plane node. This architecture ensures data persistence beyond VM lifecycle, providing durable storage for critical services including MinIO and PostgreSQL instances.\n",
    "\n",
    "variables.tf: Establishes input variables enabling deployment flexibility across various environments. Variable values can be supplied via command-line arguments or environment variables prefixed with `TF_VAR_`. For instance, the `instance_hostname` variable facilitates VM naming through string interpolation syntax: `name = \\\"${var.instance_hostname}\"`"
   ]
  },
  {
   "cell_type": "markdown",
   "id": "571aad76-4663-4b7e-9fb4-a24390487e68",
   "metadata": {},
   "source": [
    "### Variable Configuration"
   ]
  },
  {
   "cell_type": "markdown",
   "id": "860fbfba-6694-4218-854e-43b405bc094a",
   "metadata": {},
   "source": [
    "Generate a terraform.tfvars file to override default configuration parameters:"
   ]
  },
  {
   "cell_type": "code",
   "execution_count": 5,
   "id": "aacbcbdb-5e16-4dad-92da-b159a38d6d43",
   "metadata": {
    "tags": []
   },
   "outputs": [
    {
     "name": "stdout",
     "output_type": "stream",
     "text": [
      "\u001b[0m\u001b[1mInitializing the backend...\u001b[0m\n",
      "\u001b[0m\u001b[1mInitializing provider plugins...\u001b[0m\n",
      "- Reusing previous version of terraform-provider-openstack/openstack from the dependency lock file\n",
      "- Using previously-installed terraform-provider-openstack/openstack v1.51.1\n",
      "\n",
      "\u001b[0m\u001b[1m\u001b[32mTerraform has been successfully initialized!\u001b[0m\u001b[32m\u001b[0m\n",
      "\u001b[0m\u001b[32m\n",
      "You may now begin working with Terraform. Try running \"terraform plan\" to see\n",
      "any changes that are required for your infrastructure. All Terraform commands\n",
      "should now work.\n",
      "\n",
      "If you ever set or change modules or backend configuration for Terraform,\n",
      "rerun this command to reinitialize your working directory. If you forget, other\n",
      "commands will detect it and remind you to do so if necessary.\u001b[0m\n"
     ]
    }
   ],
   "source": [
    "terraform init"
   ]
  },
  {
   "cell_type": "markdown",
   "id": "5357f5ac-19fc-45b1-953e-a4c9cd76d4bc",
   "metadata": {},
   "source": [
    "\"Configure environment variables for project nomenclature adherence, specifying the key identifier shared across team members:"
   ]
  },
  {
   "cell_type": "code",
   "execution_count": 10,
   "id": "9c699c83-98f9-44bd-9ef5-c67bda3a0d20",
   "metadata": {
    "tags": []
   },
   "outputs": [],
   "source": [
    "# runs in Chameleon Jupyter environment\n",
    "export TF_VAR_suffix=project31\n",
    "export TF_VAR_key=id_rsa_chameleon"
   ]
  },
  {
   "cell_type": "markdown",
   "id": "6e3757b7-d21b-46b7-aed5-676768d926fa",
   "metadata": {},
   "source": [
    "Validate the configuration schema for syntactic correctness and internal consistency:"
   ]
  },
  {
   "cell_type": "code",
   "execution_count": 11,
   "id": "ba52d077-2cbb-473c-a934-78c274de4e8c",
   "metadata": {
    "tags": []
   },
   "outputs": [
    {
     "name": "stdout",
     "output_type": "stream",
     "text": [
      "\u001b[32m\u001b[1mSuccess!\u001b[0m The configuration is valid.\n",
      "\u001b[0m\n"
     ]
    }
   ],
   "source": [
    "terraform validate"
   ]
  },
  {
   "cell_type": "markdown",
   "id": "79989888-14c8-44bf-b212-4f5e5a833948",
   "metadata": {},
   "source": [
    "Generate an execution plan detailing resources to be provisioned "
   ]
  },
  {
   "cell_type": "code",
   "execution_count": 12,
   "id": "9f97aa9f-978a-44b8-8a66-7fe08f923d91",
   "metadata": {
    "tags": []
   },
   "outputs": [
    {
     "name": "stdout",
     "output_type": "stream",
     "text": [
      "\u001b[0m\u001b[1mdata.openstack_networking_secgroup_v2.allow_http_80: Reading...\u001b[0m\u001b[0m\n",
      "\u001b[0m\u001b[1mdata.openstack_networking_secgroup_v2.allow_9090: Reading...\u001b[0m\u001b[0m\n",
      "\u001b[0m\u001b[1mdata.openstack_networking_secgroup_v2.allow_8081: Reading...\u001b[0m\u001b[0m\n",
      "\u001b[0m\u001b[1mdata.openstack_networking_secgroup_v2.allow_9001: Reading...\u001b[0m\u001b[0m\n",
      "\u001b[0m\u001b[1mdata.openstack_networking_secgroup_v2.allow_8080: Reading...\u001b[0m\u001b[0m\n",
      "\u001b[0m\u001b[1mdata.openstack_networking_secgroup_v2.allow_ssh: Reading...\u001b[0m\u001b[0m\n",
      "\u001b[0m\u001b[1mdata.openstack_networking_subnet_v2.sharednet2_subnet: Reading...\u001b[0m\u001b[0m\n",
      "\u001b[0m\u001b[1mdata.openstack_networking_floatingip_v2.reserved_ip: Reading...\u001b[0m\u001b[0m\n",
      "\u001b[0m\u001b[1mdata.openstack_networking_network_v2.sharednet2: Reading...\u001b[0m\u001b[0m\n",
      "\u001b[0m\u001b[1mopenstack_networking_network_v2.private_net: Refreshing state... [id=3c6a6b43-7de7-4664-a8aa-c4f2b0338b51]\u001b[0m\n",
      "\u001b[0m\u001b[1mdata.openstack_networking_secgroup_v2.allow_9001: Read complete after 1s [id=ad2912c0-caa9-49e0-b431-b9b3953b91b3]\u001b[0m\n",
      "\u001b[0m\u001b[1mdata.openstack_networking_secgroup_v2.allow_8000: Reading...\u001b[0m\u001b[0m\n",
      "\u001b[0m\u001b[1mdata.openstack_networking_secgroup_v2.allow_http_80: Read complete after 1s [id=5df2db36-79f9-4b9b-b6c9-1ece762d83fb]\u001b[0m\n",
      "\u001b[0m\u001b[1mdata.openstack_networking_secgroup_v2.allow_ssh: Read complete after 1s [id=47860acf-9269-4d26-84b1-363824f7e0a2]\u001b[0m\n",
      "\u001b[0m\u001b[1mdata.openstack_networking_secgroup_v2.allow_4000: Reading...\u001b[0m\u001b[0m\n",
      "\u001b[0m\u001b[1mdata.openstack_networking_secgroup_v2.allow_8081: Read complete after 1s [id=9806d71f-f0bd-4c5d-8c48-f32db3094575]\u001b[0m\n",
      "\u001b[0m\u001b[1mdata.openstack_networking_secgroup_v2.allow_9090: Read complete after 1s [id=d6736d54-d9a4-431c-a5b5-4d29dbcdee03]\u001b[0m\n",
      "\u001b[0m\u001b[1mdata.openstack_networking_subnet_v2.sharednet2_subnet: Read complete after 1s [id=00b8d316-7617-4da4-b6c0-b7dd1dd78cd4]\u001b[0m\n",
      "\u001b[0m\u001b[1mdata.openstack_networking_secgroup_v2.allow_5000: Reading...\u001b[0m\u001b[0m\n",
      "\u001b[0m\u001b[1mdata.openstack_networking_secgroup_v2.allow_8000: Read complete after 0s [id=17a6d962-cc23-4551-ac0b-08b098f451d2]\u001b[0m\n",
      "\u001b[0m\u001b[1mdata.openstack_networking_floatingip_v2.reserved_ip: Read complete after 1s [id=7dd44f44-e9ea-495e-804a-7d983bcf81d7]\u001b[0m\n",
      "\u001b[0m\u001b[1mdata.openstack_networking_secgroup_v2.allow_8080: Read complete after 1s [id=e6eff5db-c96d-4e3d-be49-1ade281f4a7a]\u001b[0m\n",
      "\u001b[0m\u001b[1mdata.openstack_networking_network_v2.sharednet2: Read complete after 1s [id=4ec616b2-79e1-4813-abca-f2ceb41e0a89]\u001b[0m\n",
      "\u001b[0m\u001b[1mopenstack_networking_subnet_v2.private_subnet: Refreshing state... [id=daaa6226-3933-4b2d-9831-3fd893327d7a]\u001b[0m\n",
      "\u001b[0m\u001b[1mdata.openstack_networking_secgroup_v2.allow_5000: Read complete after 0s [id=e429f71c-711a-49c2-bfbd-223eccf40f9e]\u001b[0m\n",
      "\u001b[0m\u001b[1mdata.openstack_networking_secgroup_v2.allow_4000: Read complete after 0s [id=6c5fae54-c3f2-4d70-a80e-1eadb90324f1]\u001b[0m\n",
      "\u001b[0m\u001b[1mopenstack_networking_port_v2.sharednet2_ports[\"node3\"]: Refreshing state... [id=78d0b610-ebd6-4b78-9790-e569da1599b2]\u001b[0m\n",
      "\u001b[0m\u001b[1mopenstack_networking_port_v2.sharednet2_ports[\"node1\"]: Refreshing state... [id=1bc44f63-cf10-416b-8967-391c1a5b39ad]\u001b[0m\n",
      "\u001b[0m\u001b[1mopenstack_networking_port_v2.sharednet2_ports[\"node2\"]: Refreshing state... [id=ff6370dc-0bee-4ac4-8fea-5a4f13dd63ed]\u001b[0m\n",
      "\u001b[0m\u001b[1mopenstack_networking_port_v2.private_net_ports[\"node2\"]: Refreshing state... [id=bf38f4a1-e196-459e-bbac-172769e04f68]\u001b[0m\n",
      "\u001b[0m\u001b[1mopenstack_networking_port_v2.private_net_ports[\"node3\"]: Refreshing state... [id=6152b21b-6985-440a-b9f1-79bfe40dc332]\u001b[0m\n",
      "\u001b[0m\u001b[1mopenstack_networking_port_v2.private_net_ports[\"node1\"]: Refreshing state... [id=822ab2fe-bf60-46c3-ab8f-b6e7488d01d5]\u001b[0m\n",
      "\u001b[0m\u001b[1mopenstack_networking_floatingip_v2.floating_ip: Refreshing state... [id=775be72f-bf8c-4260-9360-bb4660f357db]\u001b[0m\n",
      "\n",
      "Terraform used the selected providers to generate the following execution plan.\n",
      "Resource actions are indicated with the following symbols:\n",
      "  \u001b[32m+\u001b[0m create\u001b[0m\n",
      "\n",
      "Terraform will perform the following actions:\n",
      "\n",
      "\u001b[1m  # openstack_compute_instance_v2.nodes[\"node1\"]\u001b[0m will be created\n",
      "\u001b[0m  \u001b[32m+\u001b[0m\u001b[0m resource \"openstack_compute_instance_v2\" \"nodes\" {\n",
      "      \u001b[32m+\u001b[0m\u001b[0m access_ip_v4        = (known after apply)\n",
      "      \u001b[32m+\u001b[0m\u001b[0m access_ip_v6        = (known after apply)\n",
      "      \u001b[32m+\u001b[0m\u001b[0m all_metadata        = (known after apply)\n",
      "      \u001b[32m+\u001b[0m\u001b[0m all_tags            = (known after apply)\n",
      "      \u001b[32m+\u001b[0m\u001b[0m availability_zone   = (known after apply)\n",
      "      \u001b[32m+\u001b[0m\u001b[0m created             = (known after apply)\n",
      "      \u001b[32m+\u001b[0m\u001b[0m flavor_id           = (known after apply)\n",
      "      \u001b[32m+\u001b[0m\u001b[0m flavor_name         = \"m1.medium\"\n",
      "      \u001b[32m+\u001b[0m\u001b[0m force_delete        = false\n",
      "      \u001b[32m+\u001b[0m\u001b[0m id                  = (known after apply)\n",
      "      \u001b[32m+\u001b[0m\u001b[0m image_id            = (known after apply)\n",
      "      \u001b[32m+\u001b[0m\u001b[0m image_name          = \"CC-Ubuntu24.04\"\n",
      "      \u001b[32m+\u001b[0m\u001b[0m key_pair            = \"id_rsa_chameleon\"\n",
      "      \u001b[32m+\u001b[0m\u001b[0m name                = \"node1-MS-classification-project31\"\n",
      "      \u001b[32m+\u001b[0m\u001b[0m power_state         = \"active\"\n",
      "      \u001b[32m+\u001b[0m\u001b[0m region              = (known after apply)\n",
      "      \u001b[32m+\u001b[0m\u001b[0m security_groups     = (known after apply)\n",
      "      \u001b[32m+\u001b[0m\u001b[0m stop_before_destroy = false\n",
      "      \u001b[32m+\u001b[0m\u001b[0m updated             = (known after apply)\n",
      "      \u001b[32m+\u001b[0m\u001b[0m user_data           = \"0a5c372abeabfe5c437311ee5cc68a325fc2361f\"\n",
      "\n",
      "      \u001b[32m+\u001b[0m\u001b[0m network {\n",
      "          \u001b[32m+\u001b[0m\u001b[0m access_network = false\n",
      "          \u001b[32m+\u001b[0m\u001b[0m fixed_ip_v4    = (known after apply)\n",
      "          \u001b[32m+\u001b[0m\u001b[0m fixed_ip_v6    = (known after apply)\n",
      "          \u001b[32m+\u001b[0m\u001b[0m floating_ip    = (known after apply)\n",
      "          \u001b[32m+\u001b[0m\u001b[0m mac            = (known after apply)\n",
      "          \u001b[32m+\u001b[0m\u001b[0m name           = (known after apply)\n",
      "          \u001b[32m+\u001b[0m\u001b[0m port           = \"1bc44f63-cf10-416b-8967-391c1a5b39ad\"\n",
      "          \u001b[32m+\u001b[0m\u001b[0m uuid           = (known after apply)\n",
      "        }\n",
      "      \u001b[32m+\u001b[0m\u001b[0m network {\n",
      "          \u001b[32m+\u001b[0m\u001b[0m access_network = false\n",
      "          \u001b[32m+\u001b[0m\u001b[0m fixed_ip_v4    = (known after apply)\n",
      "          \u001b[32m+\u001b[0m\u001b[0m fixed_ip_v6    = (known after apply)\n",
      "          \u001b[32m+\u001b[0m\u001b[0m floating_ip    = (known after apply)\n",
      "          \u001b[32m+\u001b[0m\u001b[0m mac            = (known after apply)\n",
      "          \u001b[32m+\u001b[0m\u001b[0m name           = (known after apply)\n",
      "          \u001b[32m+\u001b[0m\u001b[0m port           = \"822ab2fe-bf60-46c3-ab8f-b6e7488d01d5\"\n",
      "          \u001b[32m+\u001b[0m\u001b[0m uuid           = (known after apply)\n",
      "        }\n",
      "    }\n",
      "\n",
      "\u001b[1m  # openstack_compute_instance_v2.nodes[\"node2\"]\u001b[0m will be created\n",
      "\u001b[0m  \u001b[32m+\u001b[0m\u001b[0m resource \"openstack_compute_instance_v2\" \"nodes\" {\n",
      "      \u001b[32m+\u001b[0m\u001b[0m access_ip_v4        = (known after apply)\n",
      "      \u001b[32m+\u001b[0m\u001b[0m access_ip_v6        = (known after apply)\n",
      "      \u001b[32m+\u001b[0m\u001b[0m all_metadata        = (known after apply)\n",
      "      \u001b[32m+\u001b[0m\u001b[0m all_tags            = (known after apply)\n",
      "      \u001b[32m+\u001b[0m\u001b[0m availability_zone   = (known after apply)\n",
      "      \u001b[32m+\u001b[0m\u001b[0m created             = (known after apply)\n",
      "      \u001b[32m+\u001b[0m\u001b[0m flavor_id           = (known after apply)\n",
      "      \u001b[32m+\u001b[0m\u001b[0m flavor_name         = \"m1.medium\"\n",
      "      \u001b[32m+\u001b[0m\u001b[0m force_delete        = false\n",
      "      \u001b[32m+\u001b[0m\u001b[0m id                  = (known after apply)\n",
      "      \u001b[32m+\u001b[0m\u001b[0m image_id            = (known after apply)\n",
      "      \u001b[32m+\u001b[0m\u001b[0m image_name          = \"CC-Ubuntu24.04\"\n",
      "      \u001b[32m+\u001b[0m\u001b[0m key_pair            = \"id_rsa_chameleon\"\n",
      "      \u001b[32m+\u001b[0m\u001b[0m name                = \"node2-MS-classification-project31\"\n",
      "      \u001b[32m+\u001b[0m\u001b[0m power_state         = \"active\"\n",
      "      \u001b[32m+\u001b[0m\u001b[0m region              = (known after apply)\n",
      "      \u001b[32m+\u001b[0m\u001b[0m security_groups     = (known after apply)\n",
      "      \u001b[32m+\u001b[0m\u001b[0m stop_before_destroy = false\n",
      "      \u001b[32m+\u001b[0m\u001b[0m updated             = (known after apply)\n",
      "      \u001b[32m+\u001b[0m\u001b[0m user_data           = \"acb0eb58f3102883a79471ac464a6638e8817b6b\"\n",
      "\n",
      "      \u001b[32m+\u001b[0m\u001b[0m network {\n",
      "          \u001b[32m+\u001b[0m\u001b[0m access_network = false\n",
      "          \u001b[32m+\u001b[0m\u001b[0m fixed_ip_v4    = (known after apply)\n",
      "          \u001b[32m+\u001b[0m\u001b[0m fixed_ip_v6    = (known after apply)\n",
      "          \u001b[32m+\u001b[0m\u001b[0m floating_ip    = (known after apply)\n",
      "          \u001b[32m+\u001b[0m\u001b[0m mac            = (known after apply)\n",
      "          \u001b[32m+\u001b[0m\u001b[0m name           = (known after apply)\n",
      "          \u001b[32m+\u001b[0m\u001b[0m port           = \"ff6370dc-0bee-4ac4-8fea-5a4f13dd63ed\"\n",
      "          \u001b[32m+\u001b[0m\u001b[0m uuid           = (known after apply)\n",
      "        }\n",
      "      \u001b[32m+\u001b[0m\u001b[0m network {\n",
      "          \u001b[32m+\u001b[0m\u001b[0m access_network = false\n",
      "          \u001b[32m+\u001b[0m\u001b[0m fixed_ip_v4    = (known after apply)\n",
      "          \u001b[32m+\u001b[0m\u001b[0m fixed_ip_v6    = (known after apply)\n",
      "          \u001b[32m+\u001b[0m\u001b[0m floating_ip    = (known after apply)\n",
      "          \u001b[32m+\u001b[0m\u001b[0m mac            = (known after apply)\n",
      "          \u001b[32m+\u001b[0m\u001b[0m name           = (known after apply)\n",
      "          \u001b[32m+\u001b[0m\u001b[0m port           = \"bf38f4a1-e196-459e-bbac-172769e04f68\"\n",
      "          \u001b[32m+\u001b[0m\u001b[0m uuid           = (known after apply)\n",
      "        }\n",
      "    }\n",
      "\n",
      "\u001b[1m  # openstack_compute_instance_v2.nodes[\"node3\"]\u001b[0m will be created\n",
      "\u001b[0m  \u001b[32m+\u001b[0m\u001b[0m resource \"openstack_compute_instance_v2\" \"nodes\" {\n",
      "      \u001b[32m+\u001b[0m\u001b[0m access_ip_v4        = (known after apply)\n",
      "      \u001b[32m+\u001b[0m\u001b[0m access_ip_v6        = (known after apply)\n",
      "      \u001b[32m+\u001b[0m\u001b[0m all_metadata        = (known after apply)\n",
      "      \u001b[32m+\u001b[0m\u001b[0m all_tags            = (known after apply)\n",
      "      \u001b[32m+\u001b[0m\u001b[0m availability_zone   = (known after apply)\n",
      "      \u001b[32m+\u001b[0m\u001b[0m created             = (known after apply)\n",
      "      \u001b[32m+\u001b[0m\u001b[0m flavor_id           = (known after apply)\n",
      "      \u001b[32m+\u001b[0m\u001b[0m flavor_name         = \"m1.medium\"\n",
      "      \u001b[32m+\u001b[0m\u001b[0m force_delete        = false\n",
      "      \u001b[32m+\u001b[0m\u001b[0m id                  = (known after apply)\n",
      "      \u001b[32m+\u001b[0m\u001b[0m image_id            = (known after apply)\n",
      "      \u001b[32m+\u001b[0m\u001b[0m image_name          = \"CC-Ubuntu24.04\"\n",
      "      \u001b[32m+\u001b[0m\u001b[0m key_pair            = \"id_rsa_chameleon\"\n",
      "      \u001b[32m+\u001b[0m\u001b[0m name                = \"node3-MS-classification-project31\"\n",
      "      \u001b[32m+\u001b[0m\u001b[0m power_state         = \"active\"\n",
      "      \u001b[32m+\u001b[0m\u001b[0m region              = (known after apply)\n",
      "      \u001b[32m+\u001b[0m\u001b[0m security_groups     = (known after apply)\n",
      "      \u001b[32m+\u001b[0m\u001b[0m stop_before_destroy = false\n",
      "      \u001b[32m+\u001b[0m\u001b[0m updated             = (known after apply)\n",
      "      \u001b[32m+\u001b[0m\u001b[0m user_data           = \"2df933bb7556d2b7dfb8a503864212a803685188\"\n",
      "\n",
      "      \u001b[32m+\u001b[0m\u001b[0m network {\n",
      "          \u001b[32m+\u001b[0m\u001b[0m access_network = false\n",
      "          \u001b[32m+\u001b[0m\u001b[0m fixed_ip_v4    = (known after apply)\n",
      "          \u001b[32m+\u001b[0m\u001b[0m fixed_ip_v6    = (known after apply)\n",
      "          \u001b[32m+\u001b[0m\u001b[0m floating_ip    = (known after apply)\n",
      "          \u001b[32m+\u001b[0m\u001b[0m mac            = (known after apply)\n",
      "          \u001b[32m+\u001b[0m\u001b[0m name           = (known after apply)\n",
      "          \u001b[32m+\u001b[0m\u001b[0m port           = \"78d0b610-ebd6-4b78-9790-e569da1599b2\"\n",
      "          \u001b[32m+\u001b[0m\u001b[0m uuid           = (known after apply)\n",
      "        }\n",
      "      \u001b[32m+\u001b[0m\u001b[0m network {\n",
      "          \u001b[32m+\u001b[0m\u001b[0m access_network = false\n",
      "          \u001b[32m+\u001b[0m\u001b[0m fixed_ip_v4    = (known after apply)\n",
      "          \u001b[32m+\u001b[0m\u001b[0m fixed_ip_v6    = (known after apply)\n",
      "          \u001b[32m+\u001b[0m\u001b[0m floating_ip    = (known after apply)\n",
      "          \u001b[32m+\u001b[0m\u001b[0m mac            = (known after apply)\n",
      "          \u001b[32m+\u001b[0m\u001b[0m name           = (known after apply)\n",
      "          \u001b[32m+\u001b[0m\u001b[0m port           = \"6152b21b-6985-440a-b9f1-79bfe40dc332\"\n",
      "          \u001b[32m+\u001b[0m\u001b[0m uuid           = (known after apply)\n",
      "        }\n",
      "    }\n",
      "\n",
      "\u001b[1mPlan:\u001b[0m 3 to add, 0 to change, 0 to destroy.\n",
      "\u001b[0m\u001b[0m\u001b[1mopenstack_compute_instance_v2.nodes[\"node1\"]: Creating...\u001b[0m\u001b[0m\n",
      "\u001b[0m\u001b[1mopenstack_compute_instance_v2.nodes[\"node3\"]: Creating...\u001b[0m\u001b[0m\n",
      "\u001b[0m\u001b[1mopenstack_compute_instance_v2.nodes[\"node2\"]: Creating...\u001b[0m\u001b[0m\n",
      "\u001b[0m\u001b[1mopenstack_compute_instance_v2.nodes[\"node1\"]: Still creating... [10s elapsed]\u001b[0m\u001b[0m\n",
      "\u001b[0m\u001b[1mopenstack_compute_instance_v2.nodes[\"node3\"]: Still creating... [10s elapsed]\u001b[0m\u001b[0m\n",
      "\u001b[0m\u001b[1mopenstack_compute_instance_v2.nodes[\"node2\"]: Still creating... [10s elapsed]\u001b[0m\u001b[0m\n",
      "\u001b[0m\u001b[1mopenstack_compute_instance_v2.nodes[\"node2\"]: Creation complete after 13s [id=20b2f293-d2dc-41f1-a142-08670e0c351e]\u001b[0m\n",
      "\u001b[0m\u001b[1mopenstack_compute_instance_v2.nodes[\"node1\"]: Creation complete after 13s [id=164fccb6-59e9-48c5-bb93-d0de90e0a5f6]\u001b[0m\n",
      "\u001b[0m\u001b[1mopenstack_compute_instance_v2.nodes[\"node3\"]: Creation complete after 13s [id=b32389e9-b7e3-4ed5-9cee-41c74f967edd]\u001b[0m\n",
      "\u001b[0m\u001b[1m\u001b[32m\n",
      "Apply complete! Resources: 3 added, 0 changed, 0 destroyed.\n",
      "\u001b[0m\u001b[0m\u001b[1m\u001b[32m\n",
      "Outputs:\n",
      "\n",
      "\u001b[0mfloating_ip_out = \"129.114.25.172\"\n"
     ]
    }
   ],
   "source": [
    "terraform apply -auto-approve"
   ]
  },
  {
   "cell_type": "code",
   "execution_count": null,
   "id": "ba8d1038-6d73-4a1a-8493-8bfe586547bf",
   "metadata": {},
   "outputs": [],
   "source": []
  }
 ],
 "metadata": {
  "kernelspec": {
   "display_name": "Python 3 (ipykernel)",
   "language": "python",
   "name": "python3"
  },
  "language_info": {
   "codemirror_mode": {
    "name": "ipython",
    "version": 3
   },
   "file_extension": ".py",
   "mimetype": "text/x-python",
   "name": "python",
   "nbconvert_exporter": "python",
   "pygments_lexer": "ipython3",
   "version": "3.12.2"
  }
 },
 "nbformat": 4,
 "nbformat_minor": 5
}
