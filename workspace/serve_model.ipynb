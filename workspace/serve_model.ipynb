{
 "cells": [
  {
   "cell_type": "code",
   "execution_count": null,
   "metadata": {},
   "outputs": [],
   "source": [
    "import os\n",
    "import time\n",
    "import torch\n",
    "import torchaudio\n",
    "import numpy as np\n",
    "import soundfile as sf\n",
    "import onnxruntime as ort\n",
    "from transformers import Wav2Vec2ForCTC, Wav2Vec2Processor"
   ]
  },
  {
   "cell_type": "code",
   "execution_count": null,
   "metadata": {},
   "outputs": [],
   "source": [
    "def convert_to_onnx(model_id_or_path, onnx_model_name):\n",
    "    print(f\"Converting {model_id_or_path} to onnx\")\n",
    "    model = Wav2Vec2ForCTC.from_pretrained(model_id_or_path)\n",
    "    audio_len = 16000\n",
    "\n",
    "    dummy_input = torch.randn(1, audio_len, requires_grad=True)\n",
    "\n",
    "    torch.onnx.export(model,                        # model being run\n",
    "                    dummy_input,                    # model input (or a tuple for multiple inputs)\n",
    "                    onnx_model_name,                # where to save the model (can be a file or file-like object)\n",
    "                    export_params=True,             # store the trained parameter weights inside the model file\n",
    "                    opset_version=20,               # the ONNX version to export the model to\n",
    "                    do_constant_folding=True,       # whether to execute constant folding for optimization\n",
    "                    input_names = ['input'],        # the model's input names\n",
    "                    output_names = ['output'],      # the model's output names\n",
    "                    dynamic_axes={'input' : {1 : 'audio_len'},    # variable length axes\n",
    "                                'output' : {1 : 'audio_len'}})\n"
   ]
  },
  {
   "cell_type": "code",
   "execution_count": null,
   "metadata": {},
   "outputs": [],
   "source": [
    "def predict(file):\n",
    "  speech_array, sr = sf.read(file)\n",
    "  features = processor(speech_array, sampling_rate=16000, return_tensors=\"pt\")\n",
    "  input_values = features.input_values\n",
    "  onnx_outputs = ort_session.run(None, {ort_session.get_inputs()[0].name: input_values.numpy()})[0]\n",
    "  prediction = np.argmax(onnx_outputs, axis=-1)\n",
    "  return processor.decode(prediction.squeeze().tolist())"
   ]
  },
  {
   "cell_type": "code",
   "execution_count": null,
   "metadata": {},
   "outputs": [],
   "source": [
    "def inference(file):\n",
    "    num_trials = 100  # Number of trials\n",
    "    latencies = []\n",
    "    speech_array, sr = sf.read(file)\n",
    "    features = processor(speech_array, sampling_rate=16000, return_tensors=\"pt\")\n",
    "    input_values = features.input_values\n",
    "    for _ in range(num_trials):\n",
    "        start_time = time.time()\n",
    "        ort_session.run(None, {ort_session.get_inputs()[0].name: input_values.numpy()})[0]\n",
    "        latencies.append(time.time() - start_time)\n",
    "\n",
    "    print(f\"Inference Latency (single sample, median): {np.percentile(latencies, 50) * 1000:.2f} ms\")\n",
    "    print(f\"Inference Latency (single sample, 95th percentile): {np.percentile(latencies, 95) * 1000:.2f} ms\")\n",
    "    print(f\"Inference Latency (single sample, 99th percentile): {np.percentile(latencies, 99) * 1000:.2f} ms\")\n",
    "    print(f\"Inference Throughput (single sample): {num_trials/np.sum(latencies):.2f} FPS\")\n"
   ]
  },
  {
   "cell_type": "code",
   "execution_count": null,
   "metadata": {},
   "outputs": [],
   "source": [
    "SPEECHCOMMANDS_DATA_DIR = os.getenv(\"SPEECHCOMMANDS_DATA_DIR\")\n",
    "processor = Wav2Vec2Processor.from_pretrained(\"facebook/wav2vec2-base\")\n",
    "ort_session = ort.InferenceSession(\"test.onnx\")\n",
    "\n",
    "predict(SPEECHCOMMANDS_DATA_DIR +\"/speech_commands_test_set_v0.02_processed/down/\"+\"022cd682_nohash_0.wav\")"
   ]
  },
  {
   "cell_type": "code",
   "execution_count": null,
   "metadata": {},
   "outputs": [],
   "source": [
    "inference(SPEECHCOMMANDS_DATA_DIR +\"/speech_commands_test_set_v0.02_processed/up/\"+\"03401e93_nohash_0.wav\")\n"
   ]
  }
 ],
 "metadata": {
  "language_info": {
   "name": "python"
  }
 },
 "nbformat": 4,
 "nbformat_minor": 2
}
