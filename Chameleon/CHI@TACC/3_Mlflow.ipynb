{
 "cells": [
  {
   "cell_type": "markdown",
   "id": "589b657f-307a-4039-8e83-fba5ef7ca384",
   "metadata": {},
   "source": [
    "## Start MLFlow tracking server system\n",
    "\n",
    "Now we are ready to get it started! Bring up our MLFlow system with:\n",
    "\n",
    "``` bash\n",
    "# run on node-mltrain\n",
    "docker compose -f mltrain-chi/docker/docker-compose-mlflow.yaml up -d\n",
    "```\n",
    "\n",
    "which will pull each container image, then start them.\n",
    "\n",
    "When it is finished, the output of\n",
    "\n",
    "``` bash\n",
    "# run on node-mltrain\n",
    "docker ps\n",
    "```\n",
    "\n",
    "should show that the `minio`, `postgres`, and `mlflow` containers are running."
   ]
  },
  {
   "cell_type": "code",
   "execution_count": null,
   "id": "c89e59b7-26a3-4bbf-9413-8956bf5426db",
   "metadata": {},
   "outputs": [],
   "source": []
  }
 ],
 "metadata": {
  "kernelspec": {
   "display_name": "Python 3 (ipykernel)",
   "language": "python",
   "name": "python3"
  },
  "language_info": {
   "codemirror_mode": {
    "name": "ipython",
    "version": 3
   },
   "file_extension": ".py",
   "mimetype": "text/x-python",
   "name": "python",
   "nbconvert_exporter": "python",
   "pygments_lexer": "ipython3",
   "version": "3.10.9"
  }
 },
 "nbformat": 4,
 "nbformat_minor": 5
}
